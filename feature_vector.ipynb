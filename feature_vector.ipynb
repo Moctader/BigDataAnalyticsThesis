{
  "cells": [
    {
      "cell_type": "markdown",
      "metadata": {
        "colab_type": "text",
        "id": "view-in-github"
      },
      "source": [
        "<a href=\"https://colab.research.google.com/github/Moctader/BigDataAnalyticsThesis/blob/proposed-fix/feature_vector.ipynb\" target=\"_parent\"><img src=\"https://colab.research.google.com/assets/colab-badge.svg\" alt=\"Open In Colab\"/></a>"
      ]
    },
    {
      "cell_type": "code",
      "execution_count": 1,
      "metadata": {
        "colab": {
          "base_uri": "https://localhost:8080/"
        },
        "id": "K_z7nrXiyJs4",
        "outputId": "2654ea12-7956-44fd-fba6-fefb177b6f7e"
      },
      "outputs": [
        {
          "name": "stdout",
          "output_type": "stream",
          "text": [
            "Collecting mxnet==1.5.1\n",
            "  Downloading mxnet-1.5.1-py2.py3-none-manylinux1_x86_64.whl (23.1 MB)\n",
            "\u001b[2K     \u001b[90m━━━━━━━━━━━━━━━━━━━━━━━━━━━━━━━━━━━━━━━━\u001b[0m \u001b[32m23.1/23.1 MB\u001b[0m \u001b[31m13.3 MB/s\u001b[0m eta \u001b[36m0:00:00\u001b[0m\n",
            "\u001b[?25hRequirement already satisfied: numpy<2.0.0,>1.16.0 in /usr/local/lib/python3.10/dist-packages (from mxnet==1.5.1) (1.23.5)\n",
            "Requirement already satisfied: requests<3,>=2.20.0 in /usr/local/lib/python3.10/dist-packages (from mxnet==1.5.1) (2.31.0)\n",
            "Collecting graphviz<0.9.0,>=0.8.1 (from mxnet==1.5.1)\n",
            "  Downloading graphviz-0.8.4-py2.py3-none-any.whl (16 kB)\n",
            "Requirement already satisfied: charset-normalizer<4,>=2 in /usr/local/lib/python3.10/dist-packages (from requests<3,>=2.20.0->mxnet==1.5.1) (3.3.2)\n",
            "Requirement already satisfied: idna<4,>=2.5 in /usr/local/lib/python3.10/dist-packages (from requests<3,>=2.20.0->mxnet==1.5.1) (3.6)\n",
            "Requirement already satisfied: urllib3<3,>=1.21.1 in /usr/local/lib/python3.10/dist-packages (from requests<3,>=2.20.0->mxnet==1.5.1) (2.0.7)\n",
            "Requirement already satisfied: certifi>=2017.4.17 in /usr/local/lib/python3.10/dist-packages (from requests<3,>=2.20.0->mxnet==1.5.1) (2023.11.17)\n",
            "Installing collected packages: graphviz, mxnet\n",
            "  Attempting uninstall: graphviz\n",
            "    Found existing installation: graphviz 0.20.1\n",
            "    Uninstalling graphviz-0.20.1:\n",
            "      Successfully uninstalled graphviz-0.20.1\n",
            "Successfully installed graphviz-0.8.4 mxnet-1.5.1\n"
          ]
        }
      ],
      "source": [
        "pip install mxnet==1.5.1\n"
      ]
    },
    {
      "cell_type": "code",
      "execution_count": 2,
      "metadata": {
        "colab": {
          "base_uri": "https://localhost:8080/"
        },
        "id": "koT7oOjZyQBb",
        "outputId": "543facc1-a9a0-4888-c1ca-344a724fdd00"
      },
      "outputs": [
        {
          "name": "stdout",
          "output_type": "stream",
          "text": [
            "Reading package lists... Done\n",
            "Building dependency tree... Done\n",
            "Reading state information... Done\n",
            "git is already the newest version (1:2.34.1-1ubuntu1.10).\n",
            "0 upgraded, 0 newly installed, 0 to remove and 24 not upgraded.\n"
          ]
        }
      ],
      "source": [
        "!apt-get install -y git\n"
      ]
    },
    {
      "cell_type": "code",
      "execution_count": 4,
      "metadata": {
        "colab": {
          "base_uri": "https://localhost:8080/"
        },
        "id": "h0WrUVRYyQEi",
        "outputId": "2a4ce770-da7d-4c6f-a036-2b72d26a7fce"
      },
      "outputs": [
        {
          "name": "stdout",
          "output_type": "stream",
          "text": [
            "Cloning into 'SqueezeNet_v1.2'...\n",
            "remote: Enumerating objects: 14, done.\u001b[K\n",
            "remote: Total 14 (delta 0), reused 0 (delta 0), pack-reused 14\u001b[K\n",
            "Receiving objects: 100% (14/14), 4.38 MiB | 19.01 MiB/s, done.\n",
            "Resolving deltas: 100% (4/4), done.\n"
          ]
        }
      ],
      "source": [
        "!git clone https://github.com/miaow1988/SqueezeNet_v1.2.git\n"
      ]
    },
    {
      "cell_type": "code",
      "execution_count": null,
      "metadata": {},
      "outputs": [],
      "source": [
        "ASS_folder = \"/content/extracted_dataset/output20/*/ASS/\"\n",
        "non_ASS_folder = \"/content/extracted_dataset/output20/*/non-ASS/\""
      ]
    },
    {
      "cell_type": "code",
      "execution_count": 20,
      "metadata": {
        "colab": {
          "base_uri": "https://localhost:8080/"
        },
        "id": "fwNOml574MZ5",
        "outputId": "8aab5b5d-ffe3-4368-accd-db014264d8b2"
      },
      "outputs": [
        {
          "name": "stdout",
          "output_type": "stream",
          "text": [
            "Drive already mounted at /content/drive; to attempt to forcibly remount, call drive.mount(\"/content/drive\", force_remount=True).\n",
            "Contents of /content/drive/MyDrive/Dataset.zip extracted to /content/extracted_dataset/\n"
          ]
        }
      ],
      "source": [
        "from google.colab import drive\n",
        "import zipfile\n",
        "import os\n",
        "\n",
        "# Mount Google Drive\n",
        "drive.mount('/content/drive')\n",
        "\n",
        "# Specify the path to the ZIP file in your Google Drive\n",
        "zip_file_path = '/content/drive/MyDrive/Dataset.zip'\n",
        "\n",
        "# Specify the directory where you want to extract the contents\n",
        "extract_path = '/content/extracted_dataset/'\n",
        "\n",
        "# Create the target directory if it doesn't exist\n",
        "os.makedirs(extract_path, exist_ok=True)\n",
        "\n",
        "# Extract the contents of the ZIP file\n",
        "with zipfile.ZipFile(zip_file_path, 'r') as zip_ref:\n",
        "    zip_ref.extractall(extract_path)\n",
        "\n",
        "print(f\"Contents of {zip_file_path} extracted to {extract_path}\")\n"
      ]
    },
    {
      "cell_type": "code",
      "execution_count": 21,
      "metadata": {
        "id": "0O11LwJt3Cmu"
      },
      "outputs": [],
      "source": [
        "import cv2\n",
        "import numpy as np\n",
        "import matplotlib.pyplot as plt\n",
        "import cv2\n",
        "import numpy as np\n",
        "# define a simple data batch\n",
        "from collections import namedtuple\n",
        "Batch = namedtuple('Batch', ['data'])\n",
        "def get_image(url, show=False):\n",
        "    if url.startswith('http'):\n",
        "        # download and show the image\n",
        "        fname = mx.test_utils.download(url)\n",
        "    else:\n",
        "        fname = url\n",
        "    img = cv2.cvtColor(cv2.imread(fname), cv2.COLOR_BGR2RGB)\n",
        "    if img is None:\n",
        "         return None\n",
        "    if show:\n",
        "         plt.imshow(img)\n",
        "         plt.axis('off')\n",
        "    # convert into format (batch, RGB, width, height)\n",
        "    img = cv2.resize(img, (224, 224))\n",
        "\n",
        "    img = np.swapaxes(img, 0, 2)\n",
        "    img = np.swapaxes(img, 1, 2)\n",
        "    img = img[np.newaxis, :]\n",
        "    img = img / 255.0\n",
        "\n",
        "    return img\n",
        "\n",
        "def get_features(img):\n",
        "    fe_mod.forward(Batch([mx.nd.array(img)]))\n",
        "    features = fe_mod.get_outputs()[0].asnumpy()\n",
        "    return features"
      ]
    },
    {
      "cell_type": "code",
      "execution_count": 23,
      "metadata": {
        "colab": {
          "base_uri": "https://localhost:8080/"
        },
        "id": "JQRg-wQ5yQHc",
        "outputId": "afa294cb-d518-484c-d6eb-6a41c76c6f3c"
      },
      "outputs": [
        {
          "name": "stdout",
          "output_type": "stream",
          "text": [
            "List of layers:\n",
            "['fire9_concat_output', 'dropout0_output', 'conv10_conv_weight', 'conv10_conv_bias', 'conv10_conv_output', 'conv10_relu_output', 'pool10_output', 'flatten0_output', 'softmax_label', 'softmax_output']\n"
          ]
        }
      ],
      "source": [
        "from google.colab import files\n",
        "import mxnet as mx\n",
        "import os\n",
        "\n",
        "\n",
        "sym, arg_params, aux_params = mx.model.load_checkpoint('/content/SqueezeNet_v1.2/model', 0)\n",
        "\n",
        "# Create a module and bind it\n",
        "mod = mx.mod.Module(symbol=sym, context=mx.cpu(), label_names=None)\n",
        "mod.bind(for_training=False, data_shapes=[('data', (1, 3, 224, 224))])\n",
        "\n",
        "# Load the parameters\n",
        "\n",
        "# Get a list of all layers\n",
        "all_layers = sym.get_internals()\n",
        "\n",
        "# Print the list of layers\n",
        "print(\"List of layers:\")\n",
        "print(all_layers.list_outputs()[-10:])\n",
        "\n",
        "\n",
        "fe_sym = all_layers['flatten0_output']\n",
        "fe_mod = mx.mod.Module(symbol=fe_sym, context=mx.cpu(), label_names=None)\n",
        "fe_mod.bind(for_training=False, data_shapes=[('data', (1,3,224,224))])\n",
        "fe_mod.set_params(arg_params, aux_params)\n",
        "\n",
        "\n",
        "\n",
        "import glob\n",
        "import os\n",
        "# Directory containing acid sulfate soil images\n",
        "ASS_folders = glob.glob(ASS_folder)\n",
        "Ass_images = []\n",
        "\n",
        "for folder in ASS_folders:\n",
        "    images_in_folder = glob.glob(os.path.join(folder, '*.png'))\n",
        "    Ass_images.extend(images_in_folder)\n",
        "\n",
        "non_ASS_folders = glob.glob(non_ASS_folder)\n",
        "non_Ass_images = []\n",
        "\n",
        "for folder in non_ASS_folders:\n",
        "    images_in_folder = glob.glob(os.path.join(folder, '*.png'))\n",
        "    non_Ass_images.extend(images_in_folder)\n",
        "\n",
        "all_images = Ass_images + non_Ass_images\n",
        "image_paths=all_images\n",
        "\n",
        "\n",
        "\n",
        "from os.path import isfile, join\n",
        "\n",
        "features = []\n",
        "labels = []\n",
        "\n",
        "for img_path in all_images:\n",
        "      # Check if the path is a file and ends with '.png' (case-insensitive)\n",
        "      if isfile(img_path) and img_path.lower().endswith('.png'):\n",
        "          # Assuming you have a function called get_features\n",
        "          feature = get_features(get_image(img_path)).ravel()\n",
        "          features.append(feature)\n",
        "          if '/ASS/' in img_path:\n",
        "            label = 1\n",
        "          elif '/non-ASS/' in img_path:\n",
        "              label = 0\n",
        "\n",
        "          labels.append(label)\n"
      ]
    },
    {
      "cell_type": "code",
      "execution_count": 24,
      "metadata": {
        "id": "b2OMHdRKyskk"
      },
      "outputs": [],
      "source": [
        "import pandas as pd\n",
        "data = pd.DataFrame(features)\n",
        "data['label'] = labels\n",
        "\n",
        "# Save the DataFrame to a CSV file\n",
        "csv_filename = '/content/feature_vector.csv'\n",
        "data.to_csv(csv_filename, index=False)\n",
        "\n",
        "#print(f\"Feature vector saved to {csv_filename}\")\n"
      ]
    },
    {
      "cell_type": "code",
      "execution_count": 25,
      "metadata": {
        "id": "Yy5NIZJ0ysoN"
      },
      "outputs": [],
      "source": [
        "from sklearn.model_selection import train_test_split\n",
        "\n",
        "X_train, X_test, y_train, y_test = train_test_split(features, labels, test_size=0.2, random_state=42)\n"
      ]
    },
    {
      "cell_type": "code",
      "execution_count": 26,
      "metadata": {
        "colab": {
          "base_uri": "https://localhost:8080/"
        },
        "id": "vsZXQqhTysq1",
        "outputId": "280e4365-63ab-4060-e565-0fbe44cea7eb"
      },
      "outputs": [
        {
          "name": "stdout",
          "output_type": "stream",
          "text": [
            "Test set accuracy: 0.66\n"
          ]
        }
      ],
      "source": [
        "import time\n",
        "from sklearn.ensemble import RandomForestClassifier\n",
        "from sklearn.model_selection import train_test_split, GridSearchCV\n",
        "from sklearn.metrics import accuracy_score\n",
        "# Define Random Forest model\n",
        "random_forest = RandomForestClassifier()\n",
        "\n",
        "# Define hyperparameters for GridSearch\n",
        "param_grid = {\n",
        "    'n_estimators': [50, 100, 200],\n",
        "    'max_depth': [None, 10, 20],\n",
        "}\n",
        "\n",
        "# Perform GridSearchCV for hyperparameter optimization\n",
        "grid_search = GridSearchCV(random_forest, param_grid, cv=5)\n",
        "start_time = time.time()\n",
        "\n",
        "grid_search.fit(X_train, y_train)\n",
        "end_time = time.time()\n",
        "\n",
        "# Get the best hyperparameters\n",
        "best_params = grid_search.best_params_\n",
        "\n",
        "# Train Random Forest model with the best hyperparameters\n",
        "rf = RandomForestClassifier(n_estimators=best_params['n_estimators'], max_depth=best_params['max_depth']).fit(X_train, y_train)\n",
        "\n",
        "# Evaluate the model\n",
        "y_pred=rf.predict(X_test)\n",
        "accuracy = accuracy_score(y_test, y_pred)\n",
        "\n",
        "# Report accuracy and computational time during training\n",
        "#print(f\"Best hyperparameters: {best_params}\")\n",
        "print(f\"Test set accuracy: {accuracy:.2f}\")\n"
      ]
    },
    {
      "cell_type": "code",
      "execution_count": null,
      "metadata": {
        "id": "Un6iJPJTysud"
      },
      "outputs": [],
      "source": []
    }
  ],
  "metadata": {
    "colab": {
      "authorship_tag": "ABX9TyORuZPbfKWUN0XS074znV4Y",
      "include_colab_link": true,
      "provenance": []
    },
    "kernelspec": {
      "display_name": "Python 3",
      "language": "python",
      "name": "python3"
    },
    "language_info": {
      "name": "python",
      "version": "3.11.4"
    },
    "vscode": {
      "interpreter": {
        "hash": "aee8b7b246df8f9039afb4144a1f6fd8d2ca17a180786b69acc140d282b71a49"
      }
    }
  },
  "nbformat": 4,
  "nbformat_minor": 0
}
