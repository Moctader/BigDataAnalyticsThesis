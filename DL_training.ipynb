{
 "cells": [
  {
   "cell_type": "code",
   "execution_count": 1,
   "metadata": {},
   "outputs": [
    {
     "name": "stderr",
     "output_type": "stream",
     "text": [
      "2024-01-11 16:22:59.308101: I tensorflow/core/platform/cpu_feature_guard.cc:182] This TensorFlow binary is optimized to use available CPU instructions in performance-critical operations.\n",
      "To enable the following instructions: SSE4.1 SSE4.2 AVX AVX2 FMA, in other operations, rebuild TensorFlow with the appropriate compiler flags.\n"
     ]
    }
   ],
   "source": [
    "import geopandas as gpd\n",
    "import pandas as pd\n",
    "import numpy as np\n",
    "import pandas as pd\n",
    "from sklearn.model_selection import train_test_split\n",
    "from tensorflow import keras\n",
    "from tensorflow.keras.layers import Input, Conv2D, Flatten, Dense\n"
   ]
  },
  {
   "cell_type": "code",
   "execution_count": 2,
   "metadata": {},
   "outputs": [],
   "source": [
    "PREFIX = \"/Users/moctader/Thesis_code\"  # folder with files\n",
    "PREFIX = \"/Users/akusok/wrkdir/Golam\"  # folder with files"
   ]
  },
  {
   "cell_type": "code",
   "execution_count": 3,
   "metadata": {},
   "outputs": [],
   "source": [
    "data_path = f\"{PREFIX}/samples.pkl\""
   ]
  },
  {
   "cell_type": "code",
   "execution_count": 4,
   "metadata": {},
   "outputs": [],
   "source": [
    "# Read Data\n",
    "df=gpd.GeoDataFrame(\n",
    "    pd.read_pickle(data_path),\n",
    "    geometry=\"geometry\"\n",
    ")"
   ]
  },
  {
   "cell_type": "code",
   "execution_count": 5,
   "metadata": {},
   "outputs": [],
   "source": [
    "# select Feature and label\n",
    "X = np.array([np.array(row['combined_channels']) for _, row in df.iterrows()])\n",
    "label = np.array(df['label'])"
   ]
  },
  {
   "cell_type": "code",
   "execution_count": 6,
   "metadata": {},
   "outputs": [],
   "source": [
    "# select only the unique features\n",
    "# unique_arrays, unique_indices = np.unique(X, axis=-1, return_index=True)\n",
    "# feature=unique_arrays\n",
    "\n",
    "# same thing but without waiting\n",
    "unique_indices = [12, 10, 11, 20, 22, 23, 19,  4, 27, 24,  0,  9, 21,  3,  5, 15, 18, 6]\n",
    "feature = X[:, :, :, unique_indices]"
   ]
  },
  {
   "cell_type": "code",
   "execution_count": 7,
   "metadata": {},
   "outputs": [],
   "source": [
    "# splitting\n",
    "X_train, X_test, y_train, y_test = train_test_split(feature, label, test_size=0.2, random_state=42)"
   ]
  },
  {
   "cell_type": "code",
   "execution_count": 8,
   "metadata": {},
   "outputs": [],
   "source": [
    "def make_model(scale=1.0):\n",
    "    # Define the input shape\n",
    "    input_shape = (50, 50, 18)\n",
    "\n",
    "    # Define the input layer\n",
    "    input_layer = Input(shape=input_shape)\n",
    "\n",
    "    # Convolutional layers\n",
    "    # add 1 neuron to have at least 1 neuron with small scale\n",
    "    conv1 = Conv2D(int(32 * scale) + 1, kernel_size=(3, 3), activation='relu')(input_layer)\n",
    "    conv2 = Conv2D(int(64 * scale) + 1, kernel_size=(3, 3), activation='relu')(conv1)\n",
    "\n",
    "    # Flatten the output from convolutional layers\n",
    "    flattened_input = Flatten()(conv2)\n",
    "\n",
    "    # Dense layers\n",
    "    dense1 = Dense(int(512 * scale), activation='relu')(flattened_input)\n",
    "\n",
    "    # Output layer for binary classification with sigmoid activation\n",
    "    output_layer = Dense(units=1, activation='sigmoid')(dense1)\n",
    "\n",
    "        # Create the model\n",
    "    model = keras.Model(inputs=input_layer, outputs=output_layer)\n",
    "\n",
    "    # Compile the model for binary classification\n",
    "    model.compile(optimizer=keras.optimizers.Adam(learning_rate=0.0001), loss='binary_crossentropy', metrics=['accuracy'])\n",
    "\n",
    "    return model"
   ]
  },
  {
   "cell_type": "code",
   "execution_count": null,
   "metadata": {},
   "outputs": [],
   "source": [
    "\n",
    "# Train the model\n",
    "model = make_model()\n",
    "model.fit(X_train, y_train, epochs=10, batch_size=32, validation_data=(X_test, y_test))\n",
    "\n",
    "# 3 minutes\n",
    "# Epoch 1/10\n",
    "# 2024-01-10 22:39:45.043704: I tensorflow/core/grappler/optimizers/custom_graph_optimizer_registry.cc:114] Plugin optimizer for device_type GPU is enabled.\n",
    "# 2024-01-10 22:39:45.118674: E tensorflow/core/grappler/optimizers/meta_optimizer.cc:954] model_pruner failed: INVALID_ARGUMENT: Graph does not contain terminal node AssignAddVariableOp_10.\n",
    "# 146/146 [==============================] - ETA: 0s - loss: 257.1246 - accuracy: 0.5467\n",
    "# 2024-01-10 22:40:07.137836: I tensorflow/core/grappler/optimizers/custom_graph_optimizer_registry.cc:114] Plugin optimizer for device_type GPU is enabled.\n",
    "# 146/146 [==============================] - 25s 129ms/step - loss: 257.1246 - accuracy: 0.5467 - val_loss: 15.5154 - val_accuracy: 0.5863\n",
    "# Epoch 2/10\n",
    "# 146/146 [==============================] - 17s 117ms/step - loss: 20.4569 - accuracy: 0.5802 - val_loss: 39.8053 - val_accuracy: 0.6086\n",
    "# Epoch 3/10\n",
    "# 146/146 [==============================] - 17s 116ms/step - loss: 27.5042 - accuracy: 0.5776 - val_loss: 15.7298 - val_accuracy: 0.6163\n",
    "# Epoch 4/10\n",
    "# 146/146 [==============================] - 17s 117ms/step - loss: 41.1126 - accuracy: 0.5999 - val_loss: 16.4407 - val_accuracy: 0.5116\n",
    "# Epoch 5/10\n",
    "# 146/146 [==============================] - 17s 119ms/step - loss: 39.5471 - accuracy: 0.5752 - val_loss: 26.5153 - val_accuracy: 0.4953\n",
    "# Epoch 6/10\n",
    "# 146/146 [==============================] - 17s 116ms/step - loss: 35.6085 - accuracy: 0.6072 - val_loss: 30.4171 - val_accuracy: 0.4815\n",
    "# Epoch 7/10\n",
    "# 146/146 [==============================] - 17s 117ms/step - loss: 46.6920 - accuracy: 0.6194 - val_loss: 45.0672 - val_accuracy: 0.6644\n",
    "# Epoch 8/10\n",
    "# 146/146 [==============================] - 17s 117ms/step - loss: 33.5529 - accuracy: 0.6649 - val_loss: 28.6690 - val_accuracy: 0.6215\n",
    "# Epoch 9/10\n",
    "# 146/146 [==============================] - 17s 117ms/step - loss: 72.6684 - accuracy: 0.6521 - val_loss: 62.2569 - val_accuracy: 0.6172\n",
    "# Epoch 10/10\n",
    "# 146/146 [==============================] - 17s 117ms/step - loss: 32.6011 - accuracy: 0.6909 - val_loss: 35.5113 - val_accuracy: 0.6489"
   ]
  },
  {
   "cell_type": "code",
   "execution_count": null,
   "metadata": {},
   "outputs": [],
   "source": [
    "model = make_model(scale=0.5)\n",
    "model.fit(X_train, y_train, epochs=10, batch_size=32, validation_data=(X_test, y_test))\n",
    "\n",
    "# Epoch 1/10\n",
    "# 2024-01-11 15:03:27.025291: I tensorflow/core/grappler/optimizers/custom_graph_optimizer_registry.cc:114] Plugin optimizer for device_type GPU is enabled.\n",
    "# 2024-01-11 15:03:27.099239: E tensorflow/core/grappler/optimizers/meta_optimizer.cc:954] model_pruner failed: INVALID_ARGUMENT: Graph does not contain terminal node AssignAddVariableOp_10.\n",
    "# 146/146 [==============================] - ETA: 0s - loss: 147.1699 - accuracy: 0.5302\n",
    "# 2024-01-11 15:03:39.224810: I tensorflow/core/grappler/optimizers/custom_graph_optimizer_registry.cc:114] Plugin optimizer for device_type GPU is enabled.\n",
    "# 146/146 [==============================] - 14s 82ms/step - loss: 147.1699 - accuracy: 0.5302 - val_loss: 35.0653 - val_accuracy: 0.5365\n",
    "# Epoch 2/10\n",
    "# 146/146 [==============================] - 10s 68ms/step - loss: 58.9685 - accuracy: 0.5469 - val_loss: 22.8891 - val_accuracy: 0.5579\n",
    "# Epoch 3/10\n",
    "# 146/146 [==============================] - 9s 64ms/step - loss: 298.4220 - accuracy: 0.5351 - val_loss: 316.2995 - val_accuracy: 0.6026\n",
    "# Epoch 4/10\n",
    "# 146/146 [==============================] - 9s 65ms/step - loss: 104.2881 - accuracy: 0.5576 - val_loss: 103.0438 - val_accuracy: 0.6094\n",
    "# Epoch 5/10\n",
    "# 146/146 [==============================] - 9s 65ms/step - loss: 99.8757 - accuracy: 0.5551 - val_loss: 49.2435 - val_accuracy: 0.5863\n",
    "# Epoch 6/10\n",
    "# 146/146 [==============================] - 10s 66ms/step - loss: 75.6949 - accuracy: 0.5527 - val_loss: 65.4445 - val_accuracy: 0.6060\n",
    "# Epoch 7/10\n",
    "# 146/146 [==============================] - 10s 71ms/step - loss: 70.2241 - accuracy: 0.5729 - val_loss: 38.8172 - val_accuracy: 0.4764\n",
    "# Epoch 8/10\n",
    "# 146/146 [==============================] - 10s 67ms/step - loss: 35.1212 - accuracy: 0.5907 - val_loss: 49.3544 - val_accuracy: 0.5442\n",
    "# Epoch 9/10\n",
    "# 146/146 [==============================] - 9s 65ms/step - loss: 29.8578 - accuracy: 0.6033 - val_loss: 31.4261 - val_accuracy: 0.6197\n",
    "# Epoch 10/10\n",
    "# 146/146 [==============================] - 10s 69ms/step - loss: 25.1779 - accuracy: 0.6096 - val_loss: 41.7997 - val_accuracy: 0.4996"
   ]
  },
  {
   "cell_type": "code",
   "execution_count": null,
   "metadata": {},
   "outputs": [],
   "source": [
    "model = make_model(scale=0.3)\n",
    "model.fit(X_train, y_train, epochs=10, batch_size=32, validation_data=(X_test, y_test))\n",
    "\n",
    "# Epoch 1/10\n",
    "# 2024-01-11 15:05:09.790641: I tensorflow/core/grappler/optimizers/custom_graph_optimizer_registry.cc:114] Plugin optimizer for device_type GPU is enabled.\n",
    "# 2024-01-11 15:05:09.866759: E tensorflow/core/grappler/optimizers/meta_optimizer.cc:954] model_pruner failed: INVALID_ARGUMENT: Graph does not contain terminal node AssignAddVariableOp_10.\n",
    "# 146/146 [==============================] - ETA: 0s - loss: 32.1423 - accuracy: 0.5390\n",
    "# 2024-01-11 15:05:46.426005: I tensorflow/core/grappler/optimizers/custom_graph_optimizer_registry.cc:114] Plugin optimizer for device_type GPU is enabled.\n",
    "# 146/146 [==============================] - 46s 295ms/step - loss: 32.1423 - accuracy: 0.5390 - val_loss: 7.7855 - val_accuracy: 0.4541\n",
    "# Epoch 2/10\n",
    "# 146/146 [==============================] - 42s 291ms/step - loss: 39.9581 - accuracy: 0.5593 - val_loss: 95.7412 - val_accuracy: 0.5030\n",
    "# Epoch 3/10\n",
    "# 146/146 [==============================] - 42s 288ms/step - loss: 26.8225 - accuracy: 0.5707 - val_loss: 7.9169 - val_accuracy: 0.5322\n",
    "# Epoch 4/10\n",
    "# 146/146 [==============================] - 40s 275ms/step - loss: 12.7785 - accuracy: 0.5933 - val_loss: 16.5586 - val_accuracy: 0.6215\n",
    "# Epoch 5/10\n",
    "# 146/146 [==============================] - 41s 280ms/step - loss: 15.8791 - accuracy: 0.5802 - val_loss: 21.0627 - val_accuracy: 0.4738\n",
    "# Epoch 6/10\n",
    "# 146/146 [==============================] - 40s 277ms/step - loss: 93.9415 - accuracy: 0.5787 - val_loss: 18.5107 - val_accuracy: 0.4652\n",
    "# Epoch 7/10\n",
    "# 146/146 [==============================] - 41s 280ms/step - loss: 27.4585 - accuracy: 0.5930 - val_loss: 20.0483 - val_accuracy: 0.6026\n",
    "# Epoch 8/10\n",
    "# 146/146 [==============================] - 40s 277ms/step - loss: 25.6977 - accuracy: 0.6046 - val_loss: 18.7262 - val_accuracy: 0.6498\n",
    "# Epoch 9/10\n",
    "# 146/146 [==============================] - 41s 278ms/step - loss: 20.1677 - accuracy: 0.6188 - val_loss: 18.0474 - val_accuracy: 0.6489\n",
    "# Epoch 10/10\n",
    "# 146/146 [==============================] - 41s 278ms/step - loss: 19.0208 - accuracy: 0.6194 - val_loss: 20.6925 - val_accuracy: 0.6592"
   ]
  },
  {
   "cell_type": "code",
   "execution_count": null,
   "metadata": {},
   "outputs": [],
   "source": [
    "model = make_model(scale=0.2)\n",
    "model.fit(X_train, y_train, epochs=10, batch_size=32, validation_data=(X_test, y_test))\n",
    "\n",
    "# Epoch 1/10\n",
    "# 2024-01-11 15:12:04.141960: I tensorflow/core/grappler/optimizers/custom_graph_optimizer_registry.cc:114] Plugin optimizer for device_type GPU is enabled.\n",
    "# 2024-01-11 15:12:04.218099: E tensorflow/core/grappler/optimizers/meta_optimizer.cc:954] model_pruner failed: INVALID_ARGUMENT: Graph does not contain terminal node AssignAddVariableOp_10.\n",
    "# 146/146 [==============================] - ETA: 0s - loss: 31.1963 - accuracy: 0.5422\n",
    "# 2024-01-11 15:12:46.310109: I tensorflow/core/grappler/optimizers/custom_graph_optimizer_registry.cc:114] Plugin optimizer for device_type GPU is enabled.\n",
    "# 146/146 [==============================] - 53s 352ms/step - loss: 31.1963 - accuracy: 0.5422 - val_loss: 9.2566 - val_accuracy: 0.5708\n",
    "# Epoch 2/10\n",
    "# 146/146 [==============================] - 50s 344ms/step - loss: 11.3162 - accuracy: 0.5505 - val_loss: 12.4044 - val_accuracy: 0.5674\n",
    "# Epoch 3/10\n",
    "# 146/146 [==============================] - 51s 349ms/step - loss: 11.6622 - accuracy: 0.5553 - val_loss: 10.8174 - val_accuracy: 0.5562\n",
    "# Epoch 4/10\n",
    "# 146/146 [==============================] - 51s 346ms/step - loss: 12.9576 - accuracy: 0.5666 - val_loss: 11.3972 - val_accuracy: 0.5991\n",
    "# Epoch 5/10\n",
    "# 146/146 [==============================] - 51s 347ms/step - loss: 8.6681 - accuracy: 0.5973 - val_loss: 8.9586 - val_accuracy: 0.5365\n",
    "# Epoch 6/10\n",
    "# 146/146 [==============================] - 50s 345ms/step - loss: 7.7173 - accuracy: 0.6025 - val_loss: 8.7712 - val_accuracy: 0.5794\n",
    "# Epoch 7/10\n",
    "# 146/146 [==============================] - 51s 347ms/step - loss: 32.5763 - accuracy: 0.5842 - val_loss: 42.0348 - val_accuracy: 0.5004\n",
    "# Epoch 8/10\n",
    "# 146/146 [==============================] - 50s 344ms/step - loss: 21.6773 - accuracy: 0.5699 - val_loss: 15.0200 - val_accuracy: 0.5142\n",
    "# Epoch 9/10\n",
    "# 146/146 [==============================] - 50s 346ms/step - loss: 16.3958 - accuracy: 0.5933 - val_loss: 19.8449 - val_accuracy: 0.6077\n",
    "# Epoch 10/10\n",
    "# 146/146 [==============================] - 51s 348ms/step - loss: 13.5762 - accuracy: 0.6001 - val_loss: 25.4468 - val_accuracy: 0.6112"
   ]
  },
  {
   "cell_type": "code",
   "execution_count": null,
   "metadata": {},
   "outputs": [],
   "source": [
    "model = make_model(scale=0.1)\n",
    "model.fit(X_train, y_train, epochs=10, batch_size=32, validation_data=(X_test, y_test))\n",
    "\n",
    "# Epoch 1/10\n",
    "# 2024-01-11 15:20:32.667544: I tensorflow/core/grappler/optimizers/custom_graph_optimizer_registry.cc:114] Plugin optimizer for device_type GPU is enabled.\n",
    "# 2024-01-11 15:20:32.736555: E tensorflow/core/grappler/optimizers/meta_optimizer.cc:954] model_pruner failed: INVALID_ARGUMENT: Graph does not contain terminal node AssignAddVariableOp_10.\n",
    "# 146/146 [==============================] - ETA: 0s - loss: 1.9458 - accuracy: 0.5179\n",
    "# 2024-01-11 15:20:58.954346: I tensorflow/core/grappler/optimizers/custom_graph_optimizer_registry.cc:114] Plugin optimizer for device_type GPU is enabled.\n",
    "# 146/146 [==============================] - 33s 217ms/step - loss: 1.9458 - accuracy: 0.5179 - val_loss: 1.3962 - val_accuracy: 0.5588\n",
    "# Epoch 2/10\n",
    "# 146/146 [==============================] - 33s 226ms/step - loss: 1.2400 - accuracy: 0.6079 - val_loss: 1.3352 - val_accuracy: 0.5614\n",
    "# Epoch 3/10\n",
    "# 146/146 [==============================] - 34s 235ms/step - loss: 1.1307 - accuracy: 0.6368 - val_loss: 1.6630 - val_accuracy: 0.5545\n",
    "# Epoch 4/10\n",
    "# 146/146 [==============================] - 30s 205ms/step - loss: 1.1111 - accuracy: 0.6613 - val_loss: 2.1240 - val_accuracy: 0.5854\n",
    "# Epoch 5/10\n",
    "# 146/146 [==============================] - 34s 236ms/step - loss: 1.2611 - accuracy: 0.6755 - val_loss: 2.2918 - val_accuracy: 0.5854\n",
    "# Epoch 6/10\n",
    "# 146/146 [==============================] - 33s 228ms/step - loss: 1.1618 - accuracy: 0.7062 - val_loss: 2.7818 - val_accuracy: 0.5519\n",
    "# Epoch 7/10\n",
    "# 146/146 [==============================] - 31s 210ms/step - loss: 2.2501 - accuracy: 0.6823 - val_loss: 2.6765 - val_accuracy: 0.5751\n",
    "# Epoch 8/10\n",
    "# 146/146 [==============================] - 34s 235ms/step - loss: 1.2715 - accuracy: 0.7257 - val_loss: 3.4785 - val_accuracy: 0.5983\n",
    "# Epoch 9/10\n",
    "# 146/146 [==============================] - 31s 211ms/step - loss: 2.0188 - accuracy: 0.7165 - val_loss: 3.5155 - val_accuracy: 0.5648\n",
    "# Epoch 10/10\n",
    "# 146/146 [==============================] - 33s 224ms/step - loss: 2.3472 - accuracy: 0.7079 - val_loss: 4.6364 - val_accuracy: 0.5863"
   ]
  },
  {
   "cell_type": "code",
   "execution_count": null,
   "metadata": {},
   "outputs": [],
   "source": [
    "model = make_model(scale=0.07)\n",
    "model.fit(X_train, y_train, epochs=10, batch_size=32, validation_data=(X_test, y_test))\n",
    "\n",
    "# Epoch 1/10\n",
    "# 2024-01-11 15:25:59.774159: I tensorflow/core/grappler/optimizers/custom_graph_optimizer_registry.cc:114] Plugin optimizer for device_type GPU is enabled.\n",
    "# 2024-01-11 15:25:59.842050: E tensorflow/core/grappler/optimizers/meta_optimizer.cc:954] model_pruner failed: INVALID_ARGUMENT: Graph does not contain terminal node AssignAddVariableOp_10.\n",
    "# 146/146 [==============================] - ETA: 0s - loss: 29.0844 - accuracy: 0.5274\n",
    "# 2024-01-11 15:26:20.748121: I tensorflow/core/grappler/optimizers/custom_graph_optimizer_registry.cc:114] Plugin optimizer for device_type GPU is enabled.\n",
    "# 146/146 [==============================] - 26s 168ms/step - loss: 29.0844 - accuracy: 0.5274 - val_loss: 25.0141 - val_accuracy: 0.5888\n",
    "# Epoch 2/10\n",
    "# 146/146 [==============================] - 21s 146ms/step - loss: 14.1725 - accuracy: 0.5351 - val_loss: 14.4869 - val_accuracy: 0.4515\n",
    "# Epoch 3/10\n",
    "# 146/146 [==============================] - 20s 139ms/step - loss: 11.6800 - accuracy: 0.5570 - val_loss: 12.6741 - val_accuracy: 0.5845\n",
    "# Epoch 4/10\n",
    "# 146/146 [==============================] - 21s 145ms/step - loss: 9.6055 - accuracy: 0.5720 - val_loss: 10.3753 - val_accuracy: 0.4833\n",
    "# Epoch 5/10\n",
    "# 146/146 [==============================] - 24s 166ms/step - loss: 8.2779 - accuracy: 0.5924 - val_loss: 9.6439 - val_accuracy: 0.6043\n",
    "# Epoch 6/10\n",
    "# 146/146 [==============================] - 22s 149ms/step - loss: 7.1701 - accuracy: 0.6042 - val_loss: 9.5551 - val_accuracy: 0.6180\n",
    "# Epoch 7/10\n",
    "# 146/146 [==============================] - 20s 138ms/step - loss: 6.1970 - accuracy: 0.6184 - val_loss: 8.7016 - val_accuracy: 0.6120\n",
    "# Epoch 8/10\n",
    "# 146/146 [==============================] - 22s 153ms/step - loss: 6.0520 - accuracy: 0.6250 - val_loss: 13.2620 - val_accuracy: 0.4549\n",
    "# Epoch 9/10\n",
    "# 146/146 [==============================] - 23s 159ms/step - loss: 6.2164 - accuracy: 0.6282 - val_loss: 7.9603 - val_accuracy: 0.5116\n",
    "# Epoch 10/10\n",
    "# 146/146 [==============================] - 21s 147ms/step - loss: 4.8952 - accuracy: 0.6388 - val_loss: 9.4490 - val_accuracy: 0.4850"
   ]
  },
  {
   "cell_type": "code",
   "execution_count": null,
   "metadata": {},
   "outputs": [],
   "source": [
    "model = make_model(scale=1.5)\n",
    "model.fit(X_train, y_train, epochs=10, batch_size=32, validation_data=(X_test, y_test))\n",
    "\n",
    "# Epoch 1/10\n",
    "# 2024-01-11 15:29:42.254393: I tensorflow/core/grappler/optimizers/custom_graph_optimizer_registry.cc:114] Plugin optimizer for device_type GPU is enabled.\n",
    "# 2024-01-11 15:29:42.322982: E tensorflow/core/grappler/optimizers/meta_optimizer.cc:954] model_pruner failed: INVALID_ARGUMENT: Graph does not contain terminal node AssignAddVariableOp_10.\n",
    "# 146/146 [==============================] - ETA: 0s - loss: 527.8526 - accuracy: 0.5520\n",
    "# 2024-01-11 15:30:13.380533: I tensorflow/core/grappler/optimizers/custom_graph_optimizer_registry.cc:114] Plugin optimizer for device_type GPU is enabled.\n",
    "# 146/146 [==============================] - 34s 224ms/step - loss: 527.8526 - accuracy: 0.5520 - val_loss: 10.6859 - val_accuracy: 0.5906\n",
    "# Epoch 2/10\n",
    "# 146/146 [==============================] - 31s 216ms/step - loss: 50.4616 - accuracy: 0.5830 - val_loss: 7.7673 - val_accuracy: 0.5124\n",
    "# Epoch 3/10\n",
    "# 146/146 [==============================] - 31s 216ms/step - loss: 19.8610 - accuracy: 0.6098 - val_loss: 9.0434 - val_accuracy: 0.4910\n",
    "# Epoch 4/10\n",
    "# 146/146 [==============================] - 31s 214ms/step - loss: 9.9327 - accuracy: 0.6377 - val_loss: 7.2645 - val_accuracy: 0.6455\n",
    "# Epoch 5/10\n",
    "# 146/146 [==============================] - 31s 215ms/step - loss: 4.5641 - accuracy: 0.7358 - val_loss: 11.8809 - val_accuracy: 0.4790\n",
    "# Epoch 6/10\n",
    "# 146/146 [==============================] - 31s 215ms/step - loss: 4.4930 - accuracy: 0.7607 - val_loss: 6.0700 - val_accuracy: 0.6652\n",
    "# Epoch 7/10\n",
    "# 146/146 [==============================] - 31s 215ms/step - loss: 2.6358 - accuracy: 0.8324 - val_loss: 6.1431 - val_accuracy: 0.5519\n",
    "# Epoch 8/10\n",
    "# 146/146 [==============================] - 31s 215ms/step - loss: 3.0459 - accuracy: 0.8356 - val_loss: 17.2265 - val_accuracy: 0.4532\n",
    "# Epoch 9/10\n",
    "# 146/146 [==============================] - 31s 215ms/step - loss: 3.1711 - accuracy: 0.8251 - val_loss: 10.4712 - val_accuracy: 0.6678\n",
    "# Epoch 10/10\n",
    "# 146/146 [==============================] - 31s 215ms/step - loss: 2.1700 - accuracy: 0.8641 - val_loss: 5.7713 - val_accuracy: 0.6086"
   ]
  },
  {
   "cell_type": "code",
   "execution_count": null,
   "metadata": {},
   "outputs": [],
   "source": [
    "model = make_model(scale=2)\n",
    "model.fit(X_train, y_train, epochs=10, batch_size=32, validation_data=(X_test, y_test))\n",
    "\n",
    "# Epoch 1/10\n",
    "# 2024-01-11 15:35:00.380970: I tensorflow/core/grappler/optimizers/custom_graph_optimizer_registry.cc:114] Plugin optimizer for device_type GPU is enabled.\n",
    "# 2024-01-11 15:35:00.457474: E tensorflow/core/grappler/optimizers/meta_optimizer.cc:954] model_pruner failed: INVALID_ARGUMENT: Graph does not contain terminal node AssignAddVariableOp_10.\n",
    "# 146/146 [==============================] - ETA: 0s - loss: 352.8024 - accuracy: 0.5428\n",
    "# 2024-01-11 15:35:50.874437: I tensorflow/core/grappler/optimizers/custom_graph_optimizer_registry.cc:114] Plugin optimizer for device_type GPU is enabled.\n",
    "# 146/146 [==============================] - 55s 361ms/step - loss: 352.8024 - accuracy: 0.5428 - val_loss: 25.2425 - val_accuracy: 0.6240\n",
    "# Epoch 2/10\n",
    "# 146/146 [==============================] - 51s 351ms/step - loss: 17.2524 - accuracy: 0.6188 - val_loss: 16.0336 - val_accuracy: 0.6318\n",
    "# Epoch 3/10\n",
    "# 146/146 [==============================] - 51s 351ms/step - loss: 15.1602 - accuracy: 0.6617 - val_loss: 13.2001 - val_accuracy: 0.6275\n",
    "# Epoch 4/10\n",
    "# 146/146 [==============================] - 51s 350ms/step - loss: 9.1610 - accuracy: 0.7246 - val_loss: 20.7290 - val_accuracy: 0.5330\n",
    "# Epoch 5/10\n",
    "# 146/146 [==============================] - 51s 352ms/step - loss: 8.5238 - accuracy: 0.7577 - val_loss: 17.3201 - val_accuracy: 0.6378\n",
    "# Epoch 6/10\n",
    "# 146/146 [==============================] - 51s 351ms/step - loss: 10.3660 - accuracy: 0.7682 - val_loss: 14.6229 - val_accuracy: 0.5373\n",
    "# Epoch 7/10\n",
    "# 146/146 [==============================] - 51s 350ms/step - loss: 6.4932 - accuracy: 0.8045 - val_loss: 20.7936 - val_accuracy: 0.4867\n",
    "# Epoch 8/10\n",
    "# 146/146 [==============================] - 51s 350ms/step - loss: 3.6999 - accuracy: 0.8375 - val_loss: 13.4551 - val_accuracy: 0.5768\n",
    "# Epoch 9/10\n",
    "# 146/146 [==============================] - 51s 351ms/step - loss: 2.7091 - accuracy: 0.8579 - val_loss: 17.0405 - val_accuracy: 0.6687\n",
    "# Epoch 10/10\n",
    "# 146/146 [==============================] - 51s 351ms/step - loss: 7.2167 - accuracy: 0.8105 - val_loss: 19.5657 - val_accuracy: 0.6129"
   ]
  },
  {
   "cell_type": "code",
   "execution_count": 12,
   "metadata": {},
   "outputs": [
    {
     "name": "stdout",
     "output_type": "stream",
     "text": [
      "Epoch 1/10\n"
     ]
    },
    {
     "name": "stderr",
     "output_type": "stream",
     "text": [
      "2024-01-11 16:10:53.269511: I tensorflow/core/grappler/optimizers/custom_graph_optimizer_registry.cc:114] Plugin optimizer for device_type GPU is enabled.\n",
      "2024-01-11 16:10:53.340743: E tensorflow/core/grappler/optimizers/meta_optimizer.cc:954] model_pruner failed: INVALID_ARGUMENT: Graph does not contain terminal node AssignAddVariableOp_10.\n"
     ]
    },
    {
     "name": "stdout",
     "output_type": "stream",
     "text": [
      "  8/146 [>.............................] - ETA: 5:04 - loss: 7472.9121 - accuracy: 0.4336"
     ]
    },
    {
     "ename": "KeyboardInterrupt",
     "evalue": "",
     "output_type": "error",
     "traceback": [
      "\u001b[0;31m---------------------------------------------------------------------------\u001b[0m",
      "\u001b[0;31mKeyboardInterrupt\u001b[0m                         Traceback (most recent call last)",
      "Cell \u001b[0;32mIn[12], line 1\u001b[0m\n\u001b[0;32m----> 1\u001b[0m \u001b[43mmake_model\u001b[49m\u001b[43m(\u001b[49m\u001b[43mscale\u001b[49m\u001b[38;5;241;43m=\u001b[39;49m\u001b[38;5;241;43m3\u001b[39;49m\u001b[43m)\u001b[49m\u001b[38;5;241;43m.\u001b[39;49m\u001b[43mfit\u001b[49m\u001b[43m(\u001b[49m\u001b[43mX_train\u001b[49m\u001b[43m,\u001b[49m\u001b[43m \u001b[49m\u001b[43my_train\u001b[49m\u001b[43m,\u001b[49m\u001b[43m \u001b[49m\u001b[43mepochs\u001b[49m\u001b[38;5;241;43m=\u001b[39;49m\u001b[38;5;241;43m10\u001b[39;49m\u001b[43m,\u001b[49m\u001b[43m \u001b[49m\u001b[43mbatch_size\u001b[49m\u001b[38;5;241;43m=\u001b[39;49m\u001b[38;5;241;43m32\u001b[39;49m\u001b[43m,\u001b[49m\u001b[43m \u001b[49m\u001b[43mvalidation_data\u001b[49m\u001b[38;5;241;43m=\u001b[39;49m\u001b[43m(\u001b[49m\u001b[43mX_test\u001b[49m\u001b[43m,\u001b[49m\u001b[43m \u001b[49m\u001b[43my_test\u001b[49m\u001b[43m)\u001b[49m\u001b[43m)\u001b[49m\n",
      "File \u001b[0;32m~/.pyenv/versions/3.11.7/envs/jupyter/lib/python3.11/site-packages/keras/utils/traceback_utils.py:65\u001b[0m, in \u001b[0;36mfilter_traceback.<locals>.error_handler\u001b[0;34m(*args, **kwargs)\u001b[0m\n\u001b[1;32m     63\u001b[0m filtered_tb \u001b[38;5;241m=\u001b[39m \u001b[38;5;28;01mNone\u001b[39;00m\n\u001b[1;32m     64\u001b[0m \u001b[38;5;28;01mtry\u001b[39;00m:\n\u001b[0;32m---> 65\u001b[0m     \u001b[38;5;28;01mreturn\u001b[39;00m \u001b[43mfn\u001b[49m\u001b[43m(\u001b[49m\u001b[38;5;241;43m*\u001b[39;49m\u001b[43margs\u001b[49m\u001b[43m,\u001b[49m\u001b[43m \u001b[49m\u001b[38;5;241;43m*\u001b[39;49m\u001b[38;5;241;43m*\u001b[39;49m\u001b[43mkwargs\u001b[49m\u001b[43m)\u001b[49m\n\u001b[1;32m     66\u001b[0m \u001b[38;5;28;01mexcept\u001b[39;00m \u001b[38;5;167;01mException\u001b[39;00m \u001b[38;5;28;01mas\u001b[39;00m e:\n\u001b[1;32m     67\u001b[0m     filtered_tb \u001b[38;5;241m=\u001b[39m _process_traceback_frames(e\u001b[38;5;241m.\u001b[39m__traceback__)\n",
      "File \u001b[0;32m~/.pyenv/versions/3.11.7/envs/jupyter/lib/python3.11/site-packages/keras/engine/training.py:1685\u001b[0m, in \u001b[0;36mModel.fit\u001b[0;34m(self, x, y, batch_size, epochs, verbose, callbacks, validation_split, validation_data, shuffle, class_weight, sample_weight, initial_epoch, steps_per_epoch, validation_steps, validation_batch_size, validation_freq, max_queue_size, workers, use_multiprocessing)\u001b[0m\n\u001b[1;32m   1677\u001b[0m \u001b[38;5;28;01mwith\u001b[39;00m tf\u001b[38;5;241m.\u001b[39mprofiler\u001b[38;5;241m.\u001b[39mexperimental\u001b[38;5;241m.\u001b[39mTrace(\n\u001b[1;32m   1678\u001b[0m     \u001b[38;5;124m\"\u001b[39m\u001b[38;5;124mtrain\u001b[39m\u001b[38;5;124m\"\u001b[39m,\n\u001b[1;32m   1679\u001b[0m     epoch_num\u001b[38;5;241m=\u001b[39mepoch,\n\u001b[0;32m   (...)\u001b[0m\n\u001b[1;32m   1682\u001b[0m     _r\u001b[38;5;241m=\u001b[39m\u001b[38;5;241m1\u001b[39m,\n\u001b[1;32m   1683\u001b[0m ):\n\u001b[1;32m   1684\u001b[0m     callbacks\u001b[38;5;241m.\u001b[39mon_train_batch_begin(step)\n\u001b[0;32m-> 1685\u001b[0m     tmp_logs \u001b[38;5;241m=\u001b[39m \u001b[38;5;28;43mself\u001b[39;49m\u001b[38;5;241;43m.\u001b[39;49m\u001b[43mtrain_function\u001b[49m\u001b[43m(\u001b[49m\u001b[43miterator\u001b[49m\u001b[43m)\u001b[49m\n\u001b[1;32m   1686\u001b[0m     \u001b[38;5;28;01mif\u001b[39;00m data_handler\u001b[38;5;241m.\u001b[39mshould_sync:\n\u001b[1;32m   1687\u001b[0m         context\u001b[38;5;241m.\u001b[39masync_wait()\n",
      "File \u001b[0;32m~/.pyenv/versions/3.11.7/envs/jupyter/lib/python3.11/site-packages/tensorflow/python/util/traceback_utils.py:150\u001b[0m, in \u001b[0;36mfilter_traceback.<locals>.error_handler\u001b[0;34m(*args, **kwargs)\u001b[0m\n\u001b[1;32m    148\u001b[0m filtered_tb \u001b[38;5;241m=\u001b[39m \u001b[38;5;28;01mNone\u001b[39;00m\n\u001b[1;32m    149\u001b[0m \u001b[38;5;28;01mtry\u001b[39;00m:\n\u001b[0;32m--> 150\u001b[0m   \u001b[38;5;28;01mreturn\u001b[39;00m \u001b[43mfn\u001b[49m\u001b[43m(\u001b[49m\u001b[38;5;241;43m*\u001b[39;49m\u001b[43margs\u001b[49m\u001b[43m,\u001b[49m\u001b[43m \u001b[49m\u001b[38;5;241;43m*\u001b[39;49m\u001b[38;5;241;43m*\u001b[39;49m\u001b[43mkwargs\u001b[49m\u001b[43m)\u001b[49m\n\u001b[1;32m    151\u001b[0m \u001b[38;5;28;01mexcept\u001b[39;00m \u001b[38;5;167;01mException\u001b[39;00m \u001b[38;5;28;01mas\u001b[39;00m e:\n\u001b[1;32m    152\u001b[0m   filtered_tb \u001b[38;5;241m=\u001b[39m _process_traceback_frames(e\u001b[38;5;241m.\u001b[39m__traceback__)\n",
      "File \u001b[0;32m~/.pyenv/versions/3.11.7/envs/jupyter/lib/python3.11/site-packages/tensorflow/python/eager/polymorphic_function/polymorphic_function.py:894\u001b[0m, in \u001b[0;36mFunction.__call__\u001b[0;34m(self, *args, **kwds)\u001b[0m\n\u001b[1;32m    891\u001b[0m compiler \u001b[38;5;241m=\u001b[39m \u001b[38;5;124m\"\u001b[39m\u001b[38;5;124mxla\u001b[39m\u001b[38;5;124m\"\u001b[39m \u001b[38;5;28;01mif\u001b[39;00m \u001b[38;5;28mself\u001b[39m\u001b[38;5;241m.\u001b[39m_jit_compile \u001b[38;5;28;01melse\u001b[39;00m \u001b[38;5;124m\"\u001b[39m\u001b[38;5;124mnonXla\u001b[39m\u001b[38;5;124m\"\u001b[39m\n\u001b[1;32m    893\u001b[0m \u001b[38;5;28;01mwith\u001b[39;00m OptionalXlaContext(\u001b[38;5;28mself\u001b[39m\u001b[38;5;241m.\u001b[39m_jit_compile):\n\u001b[0;32m--> 894\u001b[0m   result \u001b[38;5;241m=\u001b[39m \u001b[38;5;28;43mself\u001b[39;49m\u001b[38;5;241;43m.\u001b[39;49m\u001b[43m_call\u001b[49m\u001b[43m(\u001b[49m\u001b[38;5;241;43m*\u001b[39;49m\u001b[43margs\u001b[49m\u001b[43m,\u001b[49m\u001b[43m \u001b[49m\u001b[38;5;241;43m*\u001b[39;49m\u001b[38;5;241;43m*\u001b[39;49m\u001b[43mkwds\u001b[49m\u001b[43m)\u001b[49m\n\u001b[1;32m    896\u001b[0m new_tracing_count \u001b[38;5;241m=\u001b[39m \u001b[38;5;28mself\u001b[39m\u001b[38;5;241m.\u001b[39mexperimental_get_tracing_count()\n\u001b[1;32m    897\u001b[0m without_tracing \u001b[38;5;241m=\u001b[39m (tracing_count \u001b[38;5;241m==\u001b[39m new_tracing_count)\n",
      "File \u001b[0;32m~/.pyenv/versions/3.11.7/envs/jupyter/lib/python3.11/site-packages/tensorflow/python/eager/polymorphic_function/polymorphic_function.py:926\u001b[0m, in \u001b[0;36mFunction._call\u001b[0;34m(self, *args, **kwds)\u001b[0m\n\u001b[1;32m    923\u001b[0m   \u001b[38;5;28mself\u001b[39m\u001b[38;5;241m.\u001b[39m_lock\u001b[38;5;241m.\u001b[39mrelease()\n\u001b[1;32m    924\u001b[0m   \u001b[38;5;66;03m# In this case we have created variables on the first call, so we run the\u001b[39;00m\n\u001b[1;32m    925\u001b[0m   \u001b[38;5;66;03m# defunned version which is guaranteed to never create variables.\u001b[39;00m\n\u001b[0;32m--> 926\u001b[0m   \u001b[38;5;28;01mreturn\u001b[39;00m \u001b[38;5;28;43mself\u001b[39;49m\u001b[38;5;241;43m.\u001b[39;49m\u001b[43m_no_variable_creation_fn\u001b[49m\u001b[43m(\u001b[49m\u001b[38;5;241;43m*\u001b[39;49m\u001b[43margs\u001b[49m\u001b[43m,\u001b[49m\u001b[43m \u001b[49m\u001b[38;5;241;43m*\u001b[39;49m\u001b[38;5;241;43m*\u001b[39;49m\u001b[43mkwds\u001b[49m\u001b[43m)\u001b[49m  \u001b[38;5;66;03m# pylint: disable=not-callable\u001b[39;00m\n\u001b[1;32m    927\u001b[0m \u001b[38;5;28;01melif\u001b[39;00m \u001b[38;5;28mself\u001b[39m\u001b[38;5;241m.\u001b[39m_variable_creation_fn \u001b[38;5;129;01mis\u001b[39;00m \u001b[38;5;129;01mnot\u001b[39;00m \u001b[38;5;28;01mNone\u001b[39;00m:\n\u001b[1;32m    928\u001b[0m   \u001b[38;5;66;03m# Release the lock early so that multiple threads can perform the call\u001b[39;00m\n\u001b[1;32m    929\u001b[0m   \u001b[38;5;66;03m# in parallel.\u001b[39;00m\n\u001b[1;32m    930\u001b[0m   \u001b[38;5;28mself\u001b[39m\u001b[38;5;241m.\u001b[39m_lock\u001b[38;5;241m.\u001b[39mrelease()\n",
      "File \u001b[0;32m~/.pyenv/versions/3.11.7/envs/jupyter/lib/python3.11/site-packages/tensorflow/python/eager/polymorphic_function/tracing_compiler.py:143\u001b[0m, in \u001b[0;36mTracingCompiler.__call__\u001b[0;34m(self, *args, **kwargs)\u001b[0m\n\u001b[1;32m    140\u001b[0m \u001b[38;5;28;01mwith\u001b[39;00m \u001b[38;5;28mself\u001b[39m\u001b[38;5;241m.\u001b[39m_lock:\n\u001b[1;32m    141\u001b[0m   (concrete_function,\n\u001b[1;32m    142\u001b[0m    filtered_flat_args) \u001b[38;5;241m=\u001b[39m \u001b[38;5;28mself\u001b[39m\u001b[38;5;241m.\u001b[39m_maybe_define_function(args, kwargs)\n\u001b[0;32m--> 143\u001b[0m \u001b[38;5;28;01mreturn\u001b[39;00m \u001b[43mconcrete_function\u001b[49m\u001b[38;5;241;43m.\u001b[39;49m\u001b[43m_call_flat\u001b[49m\u001b[43m(\u001b[49m\n\u001b[1;32m    144\u001b[0m \u001b[43m    \u001b[49m\u001b[43mfiltered_flat_args\u001b[49m\u001b[43m,\u001b[49m\u001b[43m \u001b[49m\u001b[43mcaptured_inputs\u001b[49m\u001b[38;5;241;43m=\u001b[39;49m\u001b[43mconcrete_function\u001b[49m\u001b[38;5;241;43m.\u001b[39;49m\u001b[43mcaptured_inputs\u001b[49m\u001b[43m)\u001b[49m\n",
      "File \u001b[0;32m~/.pyenv/versions/3.11.7/envs/jupyter/lib/python3.11/site-packages/tensorflow/python/eager/polymorphic_function/monomorphic_function.py:1757\u001b[0m, in \u001b[0;36mConcreteFunction._call_flat\u001b[0;34m(self, args, captured_inputs, cancellation_manager)\u001b[0m\n\u001b[1;32m   1753\u001b[0m possible_gradient_type \u001b[38;5;241m=\u001b[39m gradients_util\u001b[38;5;241m.\u001b[39mPossibleTapeGradientTypes(args)\n\u001b[1;32m   1754\u001b[0m \u001b[38;5;28;01mif\u001b[39;00m (possible_gradient_type \u001b[38;5;241m==\u001b[39m gradients_util\u001b[38;5;241m.\u001b[39mPOSSIBLE_GRADIENT_TYPES_NONE\n\u001b[1;32m   1755\u001b[0m     \u001b[38;5;129;01mand\u001b[39;00m executing_eagerly):\n\u001b[1;32m   1756\u001b[0m   \u001b[38;5;66;03m# No tape is watching; skip to running the function.\u001b[39;00m\n\u001b[0;32m-> 1757\u001b[0m   \u001b[38;5;28;01mreturn\u001b[39;00m \u001b[38;5;28mself\u001b[39m\u001b[38;5;241m.\u001b[39m_build_call_outputs(\u001b[38;5;28;43mself\u001b[39;49m\u001b[38;5;241;43m.\u001b[39;49m\u001b[43m_inference_function\u001b[49m\u001b[38;5;241;43m.\u001b[39;49m\u001b[43mcall\u001b[49m\u001b[43m(\u001b[49m\n\u001b[1;32m   1758\u001b[0m \u001b[43m      \u001b[49m\u001b[43mctx\u001b[49m\u001b[43m,\u001b[49m\u001b[43m \u001b[49m\u001b[43margs\u001b[49m\u001b[43m,\u001b[49m\u001b[43m \u001b[49m\u001b[43mcancellation_manager\u001b[49m\u001b[38;5;241;43m=\u001b[39;49m\u001b[43mcancellation_manager\u001b[49m\u001b[43m)\u001b[49m)\n\u001b[1;32m   1759\u001b[0m forward_backward \u001b[38;5;241m=\u001b[39m \u001b[38;5;28mself\u001b[39m\u001b[38;5;241m.\u001b[39m_select_forward_and_backward_functions(\n\u001b[1;32m   1760\u001b[0m     args,\n\u001b[1;32m   1761\u001b[0m     possible_gradient_type,\n\u001b[1;32m   1762\u001b[0m     executing_eagerly)\n\u001b[1;32m   1763\u001b[0m forward_function, args_with_tangents \u001b[38;5;241m=\u001b[39m forward_backward\u001b[38;5;241m.\u001b[39mforward()\n",
      "File \u001b[0;32m~/.pyenv/versions/3.11.7/envs/jupyter/lib/python3.11/site-packages/tensorflow/python/eager/polymorphic_function/monomorphic_function.py:381\u001b[0m, in \u001b[0;36m_EagerDefinedFunction.call\u001b[0;34m(self, ctx, args, cancellation_manager)\u001b[0m\n\u001b[1;32m    379\u001b[0m \u001b[38;5;28;01mwith\u001b[39;00m _InterpolateFunctionError(\u001b[38;5;28mself\u001b[39m):\n\u001b[1;32m    380\u001b[0m   \u001b[38;5;28;01mif\u001b[39;00m cancellation_manager \u001b[38;5;129;01mis\u001b[39;00m \u001b[38;5;28;01mNone\u001b[39;00m:\n\u001b[0;32m--> 381\u001b[0m     outputs \u001b[38;5;241m=\u001b[39m \u001b[43mexecute\u001b[49m\u001b[38;5;241;43m.\u001b[39;49m\u001b[43mexecute\u001b[49m\u001b[43m(\u001b[49m\n\u001b[1;32m    382\u001b[0m \u001b[43m        \u001b[49m\u001b[38;5;28;43mstr\u001b[39;49m\u001b[43m(\u001b[49m\u001b[38;5;28;43mself\u001b[39;49m\u001b[38;5;241;43m.\u001b[39;49m\u001b[43msignature\u001b[49m\u001b[38;5;241;43m.\u001b[39;49m\u001b[43mname\u001b[49m\u001b[43m)\u001b[49m\u001b[43m,\u001b[49m\n\u001b[1;32m    383\u001b[0m \u001b[43m        \u001b[49m\u001b[43mnum_outputs\u001b[49m\u001b[38;5;241;43m=\u001b[39;49m\u001b[38;5;28;43mself\u001b[39;49m\u001b[38;5;241;43m.\u001b[39;49m\u001b[43m_num_outputs\u001b[49m\u001b[43m,\u001b[49m\n\u001b[1;32m    384\u001b[0m \u001b[43m        \u001b[49m\u001b[43minputs\u001b[49m\u001b[38;5;241;43m=\u001b[39;49m\u001b[43margs\u001b[49m\u001b[43m,\u001b[49m\n\u001b[1;32m    385\u001b[0m \u001b[43m        \u001b[49m\u001b[43mattrs\u001b[49m\u001b[38;5;241;43m=\u001b[39;49m\u001b[43mattrs\u001b[49m\u001b[43m,\u001b[49m\n\u001b[1;32m    386\u001b[0m \u001b[43m        \u001b[49m\u001b[43mctx\u001b[49m\u001b[38;5;241;43m=\u001b[39;49m\u001b[43mctx\u001b[49m\u001b[43m)\u001b[49m\n\u001b[1;32m    387\u001b[0m   \u001b[38;5;28;01melse\u001b[39;00m:\n\u001b[1;32m    388\u001b[0m     outputs \u001b[38;5;241m=\u001b[39m execute\u001b[38;5;241m.\u001b[39mexecute_with_cancellation(\n\u001b[1;32m    389\u001b[0m         \u001b[38;5;28mstr\u001b[39m(\u001b[38;5;28mself\u001b[39m\u001b[38;5;241m.\u001b[39msignature\u001b[38;5;241m.\u001b[39mname),\n\u001b[1;32m    390\u001b[0m         num_outputs\u001b[38;5;241m=\u001b[39m\u001b[38;5;28mself\u001b[39m\u001b[38;5;241m.\u001b[39m_num_outputs,\n\u001b[0;32m   (...)\u001b[0m\n\u001b[1;32m    393\u001b[0m         ctx\u001b[38;5;241m=\u001b[39mctx,\n\u001b[1;32m    394\u001b[0m         cancellation_manager\u001b[38;5;241m=\u001b[39mcancellation_manager)\n",
      "File \u001b[0;32m~/.pyenv/versions/3.11.7/envs/jupyter/lib/python3.11/site-packages/tensorflow/python/eager/execute.py:52\u001b[0m, in \u001b[0;36mquick_execute\u001b[0;34m(op_name, num_outputs, inputs, attrs, ctx, name)\u001b[0m\n\u001b[1;32m     50\u001b[0m \u001b[38;5;28;01mtry\u001b[39;00m:\n\u001b[1;32m     51\u001b[0m   ctx\u001b[38;5;241m.\u001b[39mensure_initialized()\n\u001b[0;32m---> 52\u001b[0m   tensors \u001b[38;5;241m=\u001b[39m \u001b[43mpywrap_tfe\u001b[49m\u001b[38;5;241;43m.\u001b[39;49m\u001b[43mTFE_Py_Execute\u001b[49m\u001b[43m(\u001b[49m\u001b[43mctx\u001b[49m\u001b[38;5;241;43m.\u001b[39;49m\u001b[43m_handle\u001b[49m\u001b[43m,\u001b[49m\u001b[43m \u001b[49m\u001b[43mdevice_name\u001b[49m\u001b[43m,\u001b[49m\u001b[43m \u001b[49m\u001b[43mop_name\u001b[49m\u001b[43m,\u001b[49m\n\u001b[1;32m     53\u001b[0m \u001b[43m                                      \u001b[49m\u001b[43minputs\u001b[49m\u001b[43m,\u001b[49m\u001b[43m \u001b[49m\u001b[43mattrs\u001b[49m\u001b[43m,\u001b[49m\u001b[43m \u001b[49m\u001b[43mnum_outputs\u001b[49m\u001b[43m)\u001b[49m\n\u001b[1;32m     54\u001b[0m \u001b[38;5;28;01mexcept\u001b[39;00m core\u001b[38;5;241m.\u001b[39m_NotOkStatusException \u001b[38;5;28;01mas\u001b[39;00m e:\n\u001b[1;32m     55\u001b[0m   \u001b[38;5;28;01mif\u001b[39;00m name \u001b[38;5;129;01mis\u001b[39;00m \u001b[38;5;129;01mnot\u001b[39;00m \u001b[38;5;28;01mNone\u001b[39;00m:\n",
      "\u001b[0;31mKeyboardInterrupt\u001b[0m: "
     ]
    }
   ],
   "source": [
    "model = make_model(scale=3)\n",
    "model.fit(X_train, y_train, epochs=10, batch_size=32, validation_data=(X_test, y_test))"
   ]
  },
  {
   "cell_type": "markdown",
   "metadata": {},
   "source": [
    "## better models"
   ]
  },
  {
   "cell_type": "code",
   "execution_count": 9,
   "metadata": {},
   "outputs": [
    {
     "name": "stderr",
     "output_type": "stream",
     "text": [
      "2024-01-11 16:23:12.605723: I tensorflow/core/common_runtime/pluggable_device/pluggable_device_factory.cc:306] Could not identify NUMA node of platform GPU ID 0, defaulting to 0. Your kernel may not have been built with NUMA support.\n",
      "2024-01-11 16:23:12.605755: I tensorflow/core/common_runtime/pluggable_device/pluggable_device_factory.cc:272] Created TensorFlow device (/job:localhost/replica:0/task:0/device:GPU:0 with 0 MB memory) -> physical PluggableDevice (device: 0, name: METAL, pci bus id: <undefined>)\n"
     ]
    },
    {
     "name": "stdout",
     "output_type": "stream",
     "text": [
      "Epoch 1/50\n"
     ]
    },
    {
     "name": "stderr",
     "output_type": "stream",
     "text": [
      "2024-01-11 16:23:13.958203: I tensorflow/core/grappler/optimizers/custom_graph_optimizer_registry.cc:114] Plugin optimizer for device_type GPU is enabled.\n",
      "2024-01-11 16:23:14.036619: E tensorflow/core/grappler/optimizers/meta_optimizer.cc:954] model_pruner failed: INVALID_ARGUMENT: Graph does not contain terminal node AssignAddVariableOp_10.\n"
     ]
    },
    {
     "name": "stdout",
     "output_type": "stream",
     "text": [
      "146/146 [==============================] - ETA: 0s - loss: 103.1658 - accuracy: 0.5287"
     ]
    },
    {
     "name": "stderr",
     "output_type": "stream",
     "text": [
      "2024-01-11 16:23:55.576066: I tensorflow/core/grappler/optimizers/custom_graph_optimizer_registry.cc:114] Plugin optimizer for device_type GPU is enabled.\n"
     ]
    }
   ],
   "source": [
    "model = make_model(scale=0.3)\n",
    "model.fit(X_train, y_train, epochs=50, batch_size=32, validation_data=(X_test, y_test))"
   ]
  },
  {
   "cell_type": "markdown",
   "metadata": {},
   "source": []
  }
 ],
 "metadata": {
  "kernelspec": {
   "display_name": "Python 3",
   "language": "python",
   "name": "python3"
  },
  "language_info": {
   "codemirror_mode": {
    "name": "ipython",
    "version": 3
   },
   "file_extension": ".py",
   "mimetype": "text/x-python",
   "name": "python",
   "nbconvert_exporter": "python",
   "pygments_lexer": "ipython3",
   "version": "3.11.7"
  },
  "orig_nbformat": 4,
  "vscode": {
   "interpreter": {
    "hash": "aee8b7b246df8f9039afb4144a1f6fd8d2ca17a180786b69acc140d282b71a49"
   }
  }
 },
 "nbformat": 4,
 "nbformat_minor": 2
}
