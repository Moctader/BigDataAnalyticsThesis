{
 "cells": [
  {
   "cell_type": "code",
   "execution_count": 3,
   "metadata": {},
   "outputs": [],
   "source": [
    "import geopandas as gpd\n",
    "import matplotlib.pyplot as plt\n",
    "import pandas as pd\n",
    "import numpy as np\n",
    "from PIL import Image\n",
    "import glob\n",
    "import os\n",
    "import math\n",
    "import csv\n",
    "import os\n",
    "import cv2\n",
    "import pandas as pd\n",
    "from sklearn.model_selection import train_test_split\n",
    "from tensorflow import keras\n",
    "from tensorflow.keras.layers import Input, Flatten, Dense\n",
    "from sklearn.model_selection import train_test_split\n",
    "import numpy as np\n",
    "from tensorflow.keras.layers import Input, Conv2D, Flatten, Dense\n"
   ]
  },
  {
   "cell_type": "code",
   "execution_count": 4,
   "metadata": {},
   "outputs": [],
   "source": [
    "# Read Data\n",
    "df=gpd.GeoDataFrame(\n",
    "    pd.read_pickle(\"/Users/moctader/Thesis_code/pickle/samples.pkl\"),\n",
    "    geometry=\"geometry\"\n",
    ")"
   ]
  },
  {
   "cell_type": "code",
   "execution_count": 5,
   "metadata": {},
   "outputs": [],
   "source": [
    "# select Feature and label\n",
    "X = np.array([np.array(row['combined_channels']) for _, row in df.iterrows()])\n",
    "label = np.array(df['label'])\n"
   ]
  },
  {
   "cell_type": "code",
   "execution_count": 6,
   "metadata": {},
   "outputs": [],
   "source": [
    "#select only the unique features\n",
    "unique_arrays, unique_indices = np.unique(X, axis=-1, return_index=True)\n"
   ]
  },
  {
   "cell_type": "code",
   "execution_count": 7,
   "metadata": {},
   "outputs": [],
   "source": [
    "# assign into variable\n",
    "feature=unique_arrays"
   ]
  },
  {
   "cell_type": "code",
   "execution_count": 8,
   "metadata": {},
   "outputs": [],
   "source": [
    "# splitting\n",
    "X_train, X_test, y_train, y_test = train_test_split(feature, label, test_size=0.2, random_state=42)\n"
   ]
  },
  {
   "cell_type": "code",
   "execution_count": 9,
   "metadata": {},
   "outputs": [
    {
     "name": "stderr",
     "output_type": "stream",
     "text": [
      "WARNING:absl:At this time, the v2.11+ optimizer `tf.keras.optimizers.Adam` runs slowly on M1/M2 Macs, please use the legacy Keras optimizer instead, located at `tf.keras.optimizers.legacy.Adam`.\n",
      "WARNING:absl:There is a known slowdown when using v2.11+ Keras optimizers on M1/M2 Macs. Falling back to the legacy Keras optimizer, i.e., `tf.keras.optimizers.legacy.Adam`.\n"
     ]
    },
    {
     "name": "stdout",
     "output_type": "stream",
     "text": [
      "Epoch 1/10\n",
      "146/146 [==============================] - 36s 242ms/step - loss: 71.5983 - accuracy: 0.5360 - val_loss: 6.3199 - val_accuracy: 0.4429\n",
      "Epoch 2/10\n",
      "146/146 [==============================] - 40s 277ms/step - loss: 6.1602 - accuracy: 0.5952 - val_loss: 3.5814 - val_accuracy: 0.4670\n",
      "Epoch 3/10\n",
      "146/146 [==============================] - 48s 328ms/step - loss: 1.3786 - accuracy: 0.7025 - val_loss: 1.2969 - val_accuracy: 0.6755\n",
      "Epoch 4/10\n",
      "146/146 [==============================] - 43s 295ms/step - loss: 0.5302 - accuracy: 0.8025 - val_loss: 1.2910 - val_accuracy: 0.6644\n",
      "Epoch 5/10\n",
      "146/146 [==============================] - 40s 275ms/step - loss: 0.3197 - accuracy: 0.8654 - val_loss: 1.1967 - val_accuracy: 0.5682\n",
      "Epoch 6/10\n",
      "146/146 [==============================] - 41s 282ms/step - loss: 0.2269 - accuracy: 0.8989 - val_loss: 1.3477 - val_accuracy: 0.5966\n",
      "Epoch 7/10\n",
      "146/146 [==============================] - 41s 276ms/step - loss: 0.2042 - accuracy: 0.9174 - val_loss: 1.1989 - val_accuracy: 0.6464\n",
      "Epoch 8/10\n",
      "146/146 [==============================] - 41s 284ms/step - loss: 0.1901 - accuracy: 0.9217 - val_loss: 1.2918 - val_accuracy: 0.6232\n",
      "Epoch 9/10\n",
      "146/146 [==============================] - 40s 276ms/step - loss: 0.1880 - accuracy: 0.9193 - val_loss: 1.3061 - val_accuracy: 0.5657\n",
      "Epoch 10/10\n",
      "146/146 [==============================] - 42s 283ms/step - loss: 0.1801 - accuracy: 0.9294 - val_loss: 1.2368 - val_accuracy: 0.6532\n"
     ]
    },
    {
     "data": {
      "text/plain": [
       "<keras.src.callbacks.History at 0x295b45c10>"
      ]
     },
     "execution_count": 9,
     "metadata": {},
     "output_type": "execute_result"
    }
   ],
   "source": [
    "\n",
    "# Define the input shape\n",
    "input_shape = (50, 50, 18)\n",
    "\n",
    "# Define the input layer\n",
    "input_layer = Input(shape=input_shape)\n",
    "\n",
    "# Convolutional layers\n",
    "conv1 = Conv2D(32, kernel_size=(3, 3), activation='relu')(input_layer)\n",
    "conv2 = Conv2D(64, kernel_size=(3, 3), activation='relu')(conv1)\n",
    "\n",
    "# Flatten the output from convolutional layers\n",
    "flattened_input = Flatten()(conv2)\n",
    "\n",
    "# Dense layers\n",
    "dense1 = Dense(512, activation='relu')(flattened_input)\n",
    "\n",
    "# Output layer for binary classification with sigmoid activation\n",
    "output_layer = Dense(units=1, activation='sigmoid')(dense1)\n",
    "\n",
    "# Create the model\n",
    "model = keras.Model(inputs=input_layer, outputs=output_layer)\n",
    "\n",
    "# Compile the model for binary classification\n",
    "model.compile(optimizer=keras.optimizers.Adam(learning_rate=0.0001), loss='binary_crossentropy', metrics=['accuracy'])\n",
    "\n",
    "# Train the model\n",
    "model.fit(X_train, y_train, epochs=10, batch_size=32, validation_data=(X_test, y_test))\n",
    "\n"
   ]
  },
  {
   "cell_type": "code",
   "execution_count": null,
   "metadata": {},
   "outputs": [],
   "source": []
  }
 ],
 "metadata": {
  "kernelspec": {
   "display_name": "Python 3",
   "language": "python",
   "name": "python3"
  },
  "language_info": {
   "codemirror_mode": {
    "name": "ipython",
    "version": 3
   },
   "file_extension": ".py",
   "mimetype": "text/x-python",
   "name": "python",
   "nbconvert_exporter": "python",
   "pygments_lexer": "ipython3",
   "version": "3.11.4"
  },
  "orig_nbformat": 4,
  "vscode": {
   "interpreter": {
    "hash": "aee8b7b246df8f9039afb4144a1f6fd8d2ca17a180786b69acc140d282b71a49"
   }
  }
 },
 "nbformat": 4,
 "nbformat_minor": 2
}
