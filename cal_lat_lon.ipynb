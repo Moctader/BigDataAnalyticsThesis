{
 "cells": [
  {
   "cell_type": "code",
   "execution_count": 12,
   "metadata": {},
   "outputs": [],
   "source": [
    "import geopandas as gpd\n",
    "import matplotlib.pyplot as plt\n",
    "import pandas as pd\n",
    "import numpy as np\n",
    "from PIL import Image\n",
    "import glob\n",
    "import os\n",
    "import math\n",
    "import csv\n"
   ]
  },
  {
   "cell_type": "code",
   "execution_count": 14,
   "metadata": {},
   "outputs": [],
   "source": [
    "lat_lon_file_path='/Users/moctader/Thesis_code/lat_lon/results.csv'\n",
    "feature_vector_path='/Users/moctader/Thesis_code/lat_lon/feature_vector.csv'\n",
    "csv_file_path = '/Users/moctader/Thesis_code/lat_lon/results.csv'\n",
    "tiles_template = \"/Users/moctader/Thesis/{t}/{z}/{x}/{y}.png\"\n",
    "combined_csv_path = '/Users/moctader/Thesis_code/lat_lon/combined_results.csv'\n",
    "points = gpd.read_file(\"/Users/moctader/Thesis_code/GTK_ASsoil_obs.csv\")\n",
    "t_values = glob.glob('/Users/moctader/Thesis/*')\n"
   ]
  },
  {
   "cell_type": "code",
   "execution_count": 5,
   "metadata": {},
   "outputs": [],
   "source": [
    "points.POINT_X = points.POINT_X.astype(\"float\")\n",
    "points.POINT_Y = points.POINT_Y.astype(\"float\")\n",
    "zoom_level = 10\n"
   ]
  },
  {
   "cell_type": "code",
   "execution_count": 6,
   "metadata": {},
   "outputs": [],
   "source": [
    "samples = gpd.GeoDataFrame(\n",
    "    points.CLASS, crs=\"EPSG:3067\", geometry=gpd.points_from_xy(points.POINT_X, points.POINT_Y)\n",
    ").to_crs(\"WGS84\")\n",
    "\n",
    "tile_list = [(point.x, point.y) for point in samples['geometry']]"
   ]
  },
  {
   "cell_type": "code",
   "execution_count": 8,
   "metadata": {},
   "outputs": [],
   "source": [
    "\n",
    "results_list = []\n",
    "\n",
    "def project(p, zoom, point_class):\n",
    "    lon, lat = p.geometry.x, p.geometry.y\n",
    "    results_list.append([lon, lat])\n",
    "\n",
    "    siny = np.sin(lat * np.pi / 180)\n",
    "    siny = min(max(siny, -0.9999), 0.9999)\n",
    "\n",
    "    x = TILE_SIZE * (0.5 + lon / 360)\n",
    "    y = TILE_SIZE * (0.5 - np.log((1 + siny) / (1 - siny)) / (4 * np.pi))\n",
    "\n",
    "    scale = 2**zoom\n",
    "\n",
    "    tx = x * scale // TILE_SIZE\n",
    "    ty = y * scale // TILE_SIZE\n",
    "\n",
    "    px = x * scale % TILE_SIZE // 1\n",
    "    py = y * scale % TILE_SIZE // 1\n",
    "\n",
    "    return (int(zoom), int(tx), int(ty)), (px, py), point_class"
   ]
  },
  {
   "cell_type": "code",
   "execution_count": 10,
   "metadata": {},
   "outputs": [],
   "source": [
    "\n",
    "\n",
    "TILE_SIZE = 256\n",
    "\n",
    "for i in range(samples.shape[0]):\n",
    "    for t_value in t_values:\n",
    "        if not t_value.endswith('.zip'):\n",
    "            t_value = os.path.splitext(os.path.basename(t_value))[0]\n",
    "           \n",
    "            try:\n",
    "                project(samples.iloc[i], zoom_level, samples['CLASS'][i])\n",
    "                \n",
    "               \n",
    "            except FileNotFoundError:\n",
    "                print(f\"No valid {t_value} found for sample {i}  ------> {tz}/{tx}/{ty}  \")\n",
    "                pass\n",
    "            \n",
    "            "
   ]
  },
  {
   "cell_type": "code",
   "execution_count": 13,
   "metadata": {},
   "outputs": [
    {
     "name": "stdout",
     "output_type": "stream",
     "text": [
      "             lon        lat\n",
      "0      25.768938  64.777988\n",
      "1      25.768938  64.777988\n",
      "2      25.768938  64.777988\n",
      "3      25.768938  64.777988\n",
      "4      25.768938  64.777988\n",
      "...          ...        ...\n",
      "58236  25.159435  65.626582\n",
      "58237  25.159435  65.626582\n",
      "58238  25.159435  65.626582\n",
      "58239  25.159435  65.626582\n",
      "58240  25.159435  65.626582\n",
      "\n",
      "[58241 rows x 2 columns]\n"
     ]
    }
   ],
   "source": [
    "columns = ['lon', 'lat']\n",
    "# Convert the results_list to a DataFrame\n",
    "df = pd.DataFrame(results_list, columns=columns)\n",
    "\n",
    "# Save the DataFrame to a CSV file\n",
    "df.to_csv(csv_file_path, index=False)\n",
    "results_list\n",
    "print(df)"
   ]
  },
  {
   "cell_type": "code",
   "execution_count": 15,
   "metadata": {},
   "outputs": [
    {
     "name": "stdout",
     "output_type": "stream",
     "text": [
      "          0        1    2         3         4         5         6         7  \\\n",
      "0  0.030598  4.98712  0.0  0.564867  1.535341  1.688056  0.365771  0.758600   \n",
      "1  0.009759  4.86358  0.0  0.557743  1.560788  1.973111  0.537939  0.504111   \n",
      "\n",
      "          8         9  ...       993  994       995       996       997  \\\n",
      "0  0.022976  4.397676  ...  0.006134  0.0  1.378555  0.159766  0.000000   \n",
      "1  0.004016  4.126801  ...  0.058373  0.0  1.531437  0.271479  0.000056   \n",
      "\n",
      "        998       999  label        lon        lat  \n",
      "0  4.429381  9.502254    1.0  25.768938  64.777988  \n",
      "1  4.403303  9.131659    1.0  25.768938  64.777988  \n",
      "\n",
      "[2 rows x 1003 columns]\n"
     ]
    }
   ],
   "source": [
    "# Load the data from CSV files into DataFrames\n",
    "df1 = pd.read_csv(lat_lon_file_path)\n",
    "df2 = pd.read_csv(feature_vector_path)\n",
    "\n",
    "# Concatenate the two DataFrames along columns\n",
    "combined_df = pd.concat([df2, df1], axis=1)\n",
    "\n",
    "# Save the combined DataFrame to a new CSV file\n",
    "combined_df.to_csv(combined_csv_path, index=False)\n",
    "\n",
    "# Display the combined DataFrame\n",
    "print(combined_df.head(2))"
   ]
  },
  {
   "cell_type": "code",
   "execution_count": null,
   "metadata": {},
   "outputs": [],
   "source": [
    "\n"
   ]
  }
 ],
 "metadata": {
  "kernelspec": {
   "display_name": "Python 3 (ipykernel)",
   "language": "python",
   "name": "python3"
  },
  "language_info": {
   "codemirror_mode": {
    "name": "ipython",
    "version": 3
   },
   "file_extension": ".py",
   "mimetype": "text/x-python",
   "name": "python",
   "nbconvert_exporter": "python",
   "pygments_lexer": "ipython3",
   "version": "3.11.4"
  },
  "vscode": {
   "interpreter": {
    "hash": "7500c3e1c7c786e4ba1e4b4eb7588219b4e35d5153674f92eb3a82672b534f6e"
   }
  }
 },
 "nbformat": 4,
 "nbformat_minor": 4
}
