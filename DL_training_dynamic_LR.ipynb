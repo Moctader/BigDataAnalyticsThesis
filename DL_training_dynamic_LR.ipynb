{
 "cells": [
  {
   "cell_type": "code",
   "execution_count": 1,
   "metadata": {},
   "outputs": [
    {
     "name": "stderr",
     "output_type": "stream",
     "text": [
      "2024-01-11 16:23:22.757949: I tensorflow/core/platform/cpu_feature_guard.cc:182] This TensorFlow binary is optimized to use available CPU instructions in performance-critical operations.\n",
      "To enable the following instructions: SSE4.1 SSE4.2 AVX AVX2 FMA, in other operations, rebuild TensorFlow with the appropriate compiler flags.\n"
     ]
    }
   ],
   "source": [
    "import geopandas as gpd\n",
    "import pandas as pd\n",
    "import numpy as np\n",
    "import pandas as pd\n",
    "from sklearn.model_selection import train_test_split\n",
    "from tensorflow import keras\n",
    "from tensorflow.keras.layers import Input, Conv2D, Flatten, Dense\n"
   ]
  },
  {
   "cell_type": "code",
   "execution_count": 2,
   "metadata": {},
   "outputs": [],
   "source": [
    "PREFIX = \"/Users/moctader/Thesis_code\"  # folder with files\n",
    "PREFIX = \"/Users/akusok/wrkdir/Golam\"  # folder with files"
   ]
  },
  {
   "cell_type": "code",
   "execution_count": 3,
   "metadata": {},
   "outputs": [],
   "source": [
    "data_path = f\"{PREFIX}/samples.pkl\""
   ]
  },
  {
   "cell_type": "code",
   "execution_count": 4,
   "metadata": {},
   "outputs": [],
   "source": [
    "# Read Data\n",
    "df=gpd.GeoDataFrame(\n",
    "    pd.read_pickle(data_path),\n",
    "    geometry=\"geometry\"\n",
    ")"
   ]
  },
  {
   "cell_type": "code",
   "execution_count": 5,
   "metadata": {},
   "outputs": [],
   "source": [
    "# select Feature and label\n",
    "X = np.array([np.array(row['combined_channels']) for _, row in df.iterrows()])\n",
    "label = np.array(df['label'])"
   ]
  },
  {
   "cell_type": "code",
   "execution_count": 6,
   "metadata": {},
   "outputs": [],
   "source": [
    "# select only the unique features\n",
    "# unique_arrays, unique_indices = np.unique(X, axis=-1, return_index=True)\n",
    "# feature=unique_arrays\n",
    "\n",
    "# same thing but without waiting\n",
    "unique_indices = [12, 10, 11, 20, 22, 23, 19,  4, 27, 24,  0,  9, 21,  3,  5, 15, 18, 6]\n",
    "feature = X[:, :, :, unique_indices]"
   ]
  },
  {
   "cell_type": "code",
   "execution_count": 7,
   "metadata": {},
   "outputs": [],
   "source": [
    "# splitting\n",
    "X_train, X_test, y_train, y_test = train_test_split(feature, label, test_size=0.2, random_state=42)"
   ]
  },
  {
   "cell_type": "markdown",
   "metadata": {},
   "source": [
    "## Dynamic learning rate - decreases over time"
   ]
  },
  {
   "cell_type": "code",
   "execution_count": 8,
   "metadata": {},
   "outputs": [],
   "source": [
    "def make_model_dynamic_lr(scale=1.0):\n",
    "    # Define the input shape\n",
    "    input_shape = (50, 50, 18)\n",
    "\n",
    "    # Define the input layer\n",
    "    input_layer = Input(shape=input_shape)\n",
    "\n",
    "    # Convolutional layers\n",
    "    # add 1 neuron to have at least 1 neuron with small scale\n",
    "    conv1 = Conv2D(int(32 * scale) + 1, kernel_size=(3, 3), activation='relu')(input_layer)\n",
    "    conv2 = Conv2D(int(64 * scale) + 1, kernel_size=(3, 3), activation='relu')(conv1)\n",
    "\n",
    "    # Flatten the output from convolutional layers\n",
    "    flattened_input = Flatten()(conv2)\n",
    "\n",
    "    # Dense layers\n",
    "    dense1 = Dense(int(512 * scale), activation='relu')(flattened_input)\n",
    "\n",
    "    # Output layer for binary classification with sigmoid activation\n",
    "    output_layer = Dense(units=1, activation='sigmoid')(dense1)\n",
    "\n",
    "    # Create the model\n",
    "    model = keras.Model(inputs=input_layer, outputs=output_layer)\n",
    "\n",
    "    learning_rate_schedule = keras.optimizers.schedules.ExponentialDecay(\n",
    "        initial_learning_rate=0.001,\n",
    "        decay_steps=100,\n",
    "        decay_rate=0.94,\n",
    "    )\n",
    "\n",
    "    # Compile the model for binary classification\n",
    "    model.compile(optimizer=keras.optimizers.Adam(learning_rate=learning_rate_schedule), loss='binary_crossentropy', metrics=['accuracy'])\n",
    "\n",
    "    return model"
   ]
  },
  {
   "cell_type": "code",
   "execution_count": 9,
   "metadata": {},
   "outputs": [
    {
     "name": "stderr",
     "output_type": "stream",
     "text": [
      "2024-01-11 16:23:27.726933: I tensorflow/core/common_runtime/pluggable_device/pluggable_device_factory.cc:306] Could not identify NUMA node of platform GPU ID 0, defaulting to 0. Your kernel may not have been built with NUMA support.\n",
      "2024-01-11 16:23:27.726971: I tensorflow/core/common_runtime/pluggable_device/pluggable_device_factory.cc:272] Created TensorFlow device (/job:localhost/replica:0/task:0/device:GPU:0 with 0 MB memory) -> physical PluggableDevice (device: 0, name: METAL, pci bus id: <undefined>)\n"
     ]
    },
    {
     "name": "stdout",
     "output_type": "stream",
     "text": [
      "Epoch 1/50\n"
     ]
    },
    {
     "name": "stderr",
     "output_type": "stream",
     "text": [
      "2024-01-11 16:23:32.311283: I tensorflow/core/grappler/optimizers/custom_graph_optimizer_registry.cc:114] Plugin optimizer for device_type GPU is enabled.\n",
      "2024-01-11 16:23:32.384952: E tensorflow/core/grappler/optimizers/meta_optimizer.cc:954] model_pruner failed: INVALID_ARGUMENT: Graph does not contain terminal node AssignAddVariableOp_10.\n"
     ]
    },
    {
     "name": "stdout",
     "output_type": "stream",
     "text": [
      "146/146 [==============================] - ETA: 0s - loss: 183.0325 - accuracy: 0.5559"
     ]
    },
    {
     "name": "stderr",
     "output_type": "stream",
     "text": [
      "2024-01-11 16:24:47.328704: I tensorflow/core/grappler/optimizers/custom_graph_optimizer_registry.cc:114] Plugin optimizer for device_type GPU is enabled.\n"
     ]
    },
    {
     "name": "stdout",
     "output_type": "stream",
     "text": [
      "146/146 [==============================] - 89s 556ms/step - loss: 183.0325 - accuracy: 0.5559 - val_loss: 26.0210 - val_accuracy: 0.4069\n",
      "Epoch 2/50\n",
      "146/146 [==============================] - 81s 556ms/step - loss: 343.5966 - accuracy: 0.5226 - val_loss: 174.4445 - val_accuracy: 0.5888\n",
      "Epoch 3/50\n",
      "146/146 [==============================] - 81s 556ms/step - loss: 281.0430 - accuracy: 0.5448 - val_loss: 468.0154 - val_accuracy: 0.5923\n",
      "Epoch 4/50\n",
      "146/146 [==============================] - 79s 542ms/step - loss: 913.5151 - accuracy: 0.5085 - val_loss: 598.4979 - val_accuracy: 0.4644\n",
      "Epoch 5/50\n",
      "146/146 [==============================] - 80s 552ms/step - loss: 580.1447 - accuracy: 0.4814 - val_loss: 473.3206 - val_accuracy: 0.4635\n",
      "Epoch 6/50\n",
      "146/146 [==============================] - 82s 565ms/step - loss: 439.1011 - accuracy: 0.4793 - val_loss: 393.4965 - val_accuracy: 0.4567\n",
      "Epoch 7/50\n",
      "146/146 [==============================] - 82s 562ms/step - loss: 330.4567 - accuracy: 0.4930 - val_loss: 295.0495 - val_accuracy: 0.4858\n",
      "Epoch 8/50\n",
      "146/146 [==============================] - 82s 562ms/step - loss: 252.5332 - accuracy: 0.4960 - val_loss: 215.2281 - val_accuracy: 0.4807\n",
      "Epoch 9/50\n",
      "146/146 [==============================] - 82s 565ms/step - loss: 210.4640 - accuracy: 0.5027 - val_loss: 169.9863 - val_accuracy: 0.4979\n",
      "Epoch 10/50\n",
      "146/146 [==============================] - 82s 562ms/step - loss: 165.8346 - accuracy: 0.5164 - val_loss: 150.3443 - val_accuracy: 0.5107\n",
      "Epoch 11/50\n",
      "146/146 [==============================] - 82s 562ms/step - loss: 163.8631 - accuracy: 0.5278 - val_loss: 140.4970 - val_accuracy: 0.5296\n",
      "Epoch 12/50\n",
      "146/146 [==============================] - 82s 566ms/step - loss: 147.9290 - accuracy: 0.5368 - val_loss: 145.8766 - val_accuracy: 0.5700\n",
      "Epoch 13/50\n",
      "146/146 [==============================] - 82s 560ms/step - loss: 148.7913 - accuracy: 0.5239 - val_loss: 135.7638 - val_accuracy: 0.5330\n",
      "Epoch 14/50\n",
      "146/146 [==============================] - 82s 560ms/step - loss: 150.8731 - accuracy: 0.5357 - val_loss: 146.4631 - val_accuracy: 0.5820\n",
      "Epoch 15/50\n",
      "146/146 [==============================] - 82s 563ms/step - loss: 169.1731 - accuracy: 0.5353 - val_loss: 278.8795 - val_accuracy: 0.4412\n",
      "Epoch 16/50\n",
      "146/146 [==============================] - 82s 562ms/step - loss: 146.3426 - accuracy: 0.5375 - val_loss: 131.9783 - val_accuracy: 0.5468\n",
      "Epoch 17/50\n",
      "146/146 [==============================] - 82s 562ms/step - loss: 144.6233 - accuracy: 0.5329 - val_loss: 163.0142 - val_accuracy: 0.5863\n",
      "Epoch 18/50\n",
      "146/146 [==============================] - 82s 563ms/step - loss: 146.2187 - accuracy: 0.5377 - val_loss: 140.1816 - val_accuracy: 0.5142\n",
      "Epoch 19/50\n",
      "146/146 [==============================] - 82s 564ms/step - loss: 142.2620 - accuracy: 0.5375 - val_loss: 133.9247 - val_accuracy: 0.5279\n",
      "Epoch 20/50\n",
      "146/146 [==============================] - 82s 565ms/step - loss: 131.4492 - accuracy: 0.5422 - val_loss: 139.2142 - val_accuracy: 0.5142\n",
      "Epoch 21/50\n",
      "146/146 [==============================] - 82s 562ms/step - loss: 135.7254 - accuracy: 0.5355 - val_loss: 130.1299 - val_accuracy: 0.5416\n",
      "Epoch 22/50\n",
      "146/146 [==============================] - 82s 562ms/step - loss: 136.6481 - accuracy: 0.5323 - val_loss: 128.1733 - val_accuracy: 0.5502\n",
      "Epoch 23/50\n",
      "146/146 [==============================] - 82s 563ms/step - loss: 129.7598 - accuracy: 0.5336 - val_loss: 131.0877 - val_accuracy: 0.5691\n",
      "Epoch 24/50\n",
      "146/146 [==============================] - 82s 563ms/step - loss: 134.0488 - accuracy: 0.5375 - val_loss: 130.3908 - val_accuracy: 0.5691\n",
      "Epoch 25/50\n",
      "146/146 [==============================] - 82s 564ms/step - loss: 129.8463 - accuracy: 0.5327 - val_loss: 141.5996 - val_accuracy: 0.5768\n",
      "Epoch 26/50\n",
      "146/146 [==============================] - 82s 563ms/step - loss: 128.9379 - accuracy: 0.5304 - val_loss: 127.0770 - val_accuracy: 0.5579\n",
      "Epoch 27/50\n",
      "146/146 [==============================] - 82s 564ms/step - loss: 128.2492 - accuracy: 0.5347 - val_loss: 126.5775 - val_accuracy: 0.5485\n",
      "Epoch 28/50\n",
      "146/146 [==============================] - 82s 564ms/step - loss: 134.5921 - accuracy: 0.5342 - val_loss: 127.6325 - val_accuracy: 0.5399\n",
      "Epoch 29/50\n",
      "146/146 [==============================] - 82s 562ms/step - loss: 127.6774 - accuracy: 0.5338 - val_loss: 126.1132 - val_accuracy: 0.5502\n",
      "Epoch 30/50\n",
      "146/146 [==============================] - 82s 565ms/step - loss: 126.2922 - accuracy: 0.5370 - val_loss: 131.0856 - val_accuracy: 0.5734\n",
      "Epoch 31/50\n",
      "146/146 [==============================] - 82s 563ms/step - loss: 127.5456 - accuracy: 0.5342 - val_loss: 131.3764 - val_accuracy: 0.5193\n",
      "Epoch 32/50\n",
      "146/146 [==============================] - 82s 563ms/step - loss: 124.6098 - accuracy: 0.5334 - val_loss: 135.9347 - val_accuracy: 0.5717\n",
      "Epoch 33/50\n",
      "146/146 [==============================] - 82s 563ms/step - loss: 126.7647 - accuracy: 0.5304 - val_loss: 125.8786 - val_accuracy: 0.5433\n",
      "Epoch 34/50\n",
      "146/146 [==============================] - 82s 563ms/step - loss: 126.7731 - accuracy: 0.5336 - val_loss: 125.3325 - val_accuracy: 0.5571\n",
      "Epoch 35/50\n",
      "146/146 [==============================] - 82s 563ms/step - loss: 126.2828 - accuracy: 0.5327 - val_loss: 126.4457 - val_accuracy: 0.5597\n",
      "Epoch 36/50\n",
      "146/146 [==============================] - 82s 563ms/step - loss: 125.2326 - accuracy: 0.5295 - val_loss: 125.4236 - val_accuracy: 0.5571\n",
      "Epoch 37/50\n",
      "146/146 [==============================] - 82s 563ms/step - loss: 125.1932 - accuracy: 0.5319 - val_loss: 126.5289 - val_accuracy: 0.5365\n",
      "Epoch 38/50\n",
      "146/146 [==============================] - 82s 565ms/step - loss: 124.8442 - accuracy: 0.5319 - val_loss: 124.9169 - val_accuracy: 0.5502\n",
      "Epoch 39/50\n",
      "146/146 [==============================] - 82s 562ms/step - loss: 124.4361 - accuracy: 0.5304 - val_loss: 128.9279 - val_accuracy: 0.5691\n",
      "Epoch 40/50\n",
      "146/146 [==============================] - 82s 565ms/step - loss: 125.1270 - accuracy: 0.5362 - val_loss: 128.9067 - val_accuracy: 0.5691\n",
      "Epoch 41/50\n",
      "146/146 [==============================] - 82s 564ms/step - loss: 124.5699 - accuracy: 0.5340 - val_loss: 124.8396 - val_accuracy: 0.5545\n",
      "Epoch 42/50\n",
      "146/146 [==============================] - 82s 564ms/step - loss: 124.1326 - accuracy: 0.5329 - val_loss: 126.3588 - val_accuracy: 0.5622\n",
      "Epoch 43/50\n",
      "146/146 [==============================] - 82s 565ms/step - loss: 124.4004 - accuracy: 0.5308 - val_loss: 129.1716 - val_accuracy: 0.5700\n",
      "Epoch 44/50\n",
      "146/146 [==============================] - 80s 547ms/step - loss: 124.5630 - accuracy: 0.5317 - val_loss: 124.7011 - val_accuracy: 0.5425\n",
      "Epoch 45/50\n",
      "146/146 [==============================] - 82s 560ms/step - loss: 124.2166 - accuracy: 0.5261 - val_loss: 124.8446 - val_accuracy: 0.5562\n",
      "Epoch 46/50\n",
      "146/146 [==============================] - 82s 562ms/step - loss: 123.2957 - accuracy: 0.5295 - val_loss: 124.3259 - val_accuracy: 0.5588\n",
      "Epoch 47/50\n",
      "146/146 [==============================] - 82s 561ms/step - loss: 123.6583 - accuracy: 0.5299 - val_loss: 124.2923 - val_accuracy: 0.5494\n",
      "Epoch 48/50\n",
      "146/146 [==============================] - 82s 561ms/step - loss: 122.8509 - accuracy: 0.5289 - val_loss: 126.4902 - val_accuracy: 0.5270\n",
      "Epoch 49/50\n",
      "146/146 [==============================] - 82s 562ms/step - loss: 123.1453 - accuracy: 0.5287 - val_loss: 124.9598 - val_accuracy: 0.5571\n",
      "Epoch 50/50\n",
      "146/146 [==============================] - 55s 373ms/step - loss: 123.0096 - accuracy: 0.5312 - val_loss: 124.3328 - val_accuracy: 0.5476\n"
     ]
    },
    {
     "data": {
      "text/plain": [
       "<keras.callbacks.History at 0x14360ab50>"
      ]
     },
     "execution_count": 9,
     "metadata": {},
     "output_type": "execute_result"
    }
   ],
   "source": [
    "model_dynamic = make_model_dynamic_lr(scale=0.3)\n",
    "model_dynamic.fit(X_train, y_train, epochs=50, batch_size=32, validation_data=(X_test, y_test))\n",
    "\n",
    "# 146/146 [==============================] - ETA: 0s - loss: 183.0325 - accuracy: 0.5559\n",
    "# 2024-01-11 16:24:47.328704: I tensorflow/core/grappler/optimizers/custom_graph_optimizer_registry.cc:114] Plugin optimizer for device_type GPU is enabled.\n",
    "# 146/146 [==============================] - 89s 556ms/step - loss: 183.0325 - accuracy: 0.5559 - val_loss: 26.0210 - val_accuracy: 0.4069\n",
    "# Epoch 2/50\n",
    "# 146/146 [==============================] - 81s 556ms/step - loss: 343.5966 - accuracy: 0.5226 - val_loss: 174.4445 - val_accuracy: 0.5888\n",
    "# Epoch 3/50\n",
    "# 146/146 [==============================] - 81s 556ms/step - loss: 281.0430 - accuracy: 0.5448 - val_loss: 468.0154 - val_accuracy: 0.5923\n",
    "# Epoch 4/50\n",
    "# 146/146 [==============================] - 79s 542ms/step - loss: 913.5151 - accuracy: 0.5085 - val_loss: 598.4979 - val_accuracy: 0.4644\n",
    "# Epoch 5/50\n",
    "# 146/146 [==============================] - 80s 552ms/step - loss: 580.1447 - accuracy: 0.4814 - val_loss: 473.3206 - val_accuracy: 0.4635\n",
    "# Epoch 6/50\n",
    "# 146/146 [==============================] - 82s 565ms/step - loss: 439.1011 - accuracy: 0.4793 - val_loss: 393.4965 - val_accuracy: 0.4567\n",
    "# Epoch 7/50\n",
    "# 146/146 [==============================] - 82s 562ms/step - loss: 330.4567 - accuracy: 0.4930 - val_loss: 295.0495 - val_accuracy: 0.4858\n",
    "# Epoch 8/50\n",
    "# 146/146 [==============================] - 82s 562ms/step - loss: 252.5332 - accuracy: 0.4960 - val_loss: 215.2281 - val_accuracy: 0.4807\n",
    "# Epoch 9/50\n",
    "# 146/146 [==============================] - 82s 565ms/step - loss: 210.4640 - accuracy: 0.5027 - val_loss: 169.9863 - val_accuracy: 0.4979\n",
    "# Epoch 10/50\n",
    "# 146/146 [==============================] - 82s 562ms/step - loss: 165.8346 - accuracy: 0.5164 - val_loss: 150.3443 - val_accuracy: 0.5107\n",
    "# Epoch 11/50\n",
    "# 146/146 [==============================] - 82s 562ms/step - loss: 163.8631 - accuracy: 0.5278 - val_loss: 140.4970 - val_accuracy: 0.5296\n",
    "# Epoch 12/50\n",
    "# 146/146 [==============================] - 82s 566ms/step - loss: 147.9290 - accuracy: 0.5368 - val_loss: 145.8766 - val_accuracy: 0.5700\n",
    "# Epoch 13/50\n",
    "# 146/146 [==============================] - 82s 560ms/step - loss: 148.7913 - accuracy: 0.5239 - val_loss: 135.7638 - val_accuracy: 0.5330\n",
    "# ...\n",
    "# Epoch 49/50\n",
    "# 146/146 [==============================] - 82s 562ms/step - loss: 123.1453 - accuracy: 0.5287 - val_loss: 124.9598 - val_accuracy: 0.5571\n",
    "# Epoch 50/50\n",
    "# 146/146 [==============================] - 55s 373ms/step - loss: 123.0096 - accuracy: 0.5312 - val_loss: 124.3328 - val_accuracy: 0.5476"
   ]
  },
  {
   "cell_type": "code",
   "execution_count": 10,
   "metadata": {},
   "outputs": [
    {
     "name": "stdout",
     "output_type": "stream",
     "text": [
      "Epoch 1/50\n"
     ]
    },
    {
     "name": "stderr",
     "output_type": "stream",
     "text": [
      "2024-01-11 17:36:15.174865: I tensorflow/core/grappler/optimizers/custom_graph_optimizer_registry.cc:114] Plugin optimizer for device_type GPU is enabled.\n",
      "2024-01-11 17:36:15.255711: E tensorflow/core/grappler/optimizers/meta_optimizer.cc:954] model_pruner failed: INVALID_ARGUMENT: Graph does not contain terminal node AssignAddVariableOp_10.\n"
     ]
    },
    {
     "name": "stdout",
     "output_type": "stream",
     "text": [
      "113/146 [======================>.......] - ETA: 3s - loss: 2561.2668 - accuracy: 0.5318"
     ]
    }
   ],
   "source": [
    "model_dynamic = make_model_dynamic_lr(scale=1)\n",
    "model_dynamic.fit(X_train, y_train, epochs=50, batch_size=32, validation_data=(X_test, y_test))\n",
    "\n",
    "# 146/146 [==============================] - ETA: 0s - loss: 183.0325 - accuracy: 0.5559\n",
    "# 2024-01-11 16:24:47.328704: I tensorflow/core/grappler/optimizers/custom_graph_optimizer_registry.cc:114] Plugin optimizer for device_type GPU is enabled.\n",
    "# 146/146 [==============================] - 89s 556ms/step - loss: 183.0325 - accuracy: 0.5559 - val_loss: 26.0210 - val_accuracy: 0.4069\n",
    "# Epoch 2/50\n",
    "# 146/146 [==============================] - 81s 556ms/step - loss: 343.5966 - accuracy: 0.5226 - val_loss: 174.4445 - val_accuracy: 0.5888\n",
    "# Epoch 3/50\n",
    "# 146/146 [==============================] - 81s 556ms/step - loss: 281.0430 - accuracy: 0.5448 - val_loss: 468.0154 - val_accuracy: 0.5923\n",
    "# Epoch 4/50\n",
    "# 146/146 [==============================] - 79s 542ms/step - loss: 913.5151 - accuracy: 0.5085 - val_loss: 598.4979 - val_accuracy: 0.4644\n",
    "# Epoch 5/50\n",
    "# 146/146 [==============================] - 80s 552ms/step - loss: 580.1447 - accuracy: 0.4814 - val_loss: 473.3206 - val_accuracy: 0.4635\n",
    "# Epoch 6/50\n",
    "# 146/146 [==============================] - 82s 565ms/step - loss: 439.1011 - accuracy: 0.4793 - val_loss: 393.4965 - val_accuracy: 0.4567\n",
    "# Epoch 7/50\n",
    "# 146/146 [==============================] - 82s 562ms/step - loss: 330.4567 - accuracy: 0.4930 - val_loss: 295.0495 - val_accuracy: 0.4858\n",
    "# Epoch 8/50\n",
    "# 146/146 [==============================] - 82s 562ms/step - loss: 252.5332 - accuracy: 0.4960 - val_loss: 215.2281 - val_accuracy: 0.4807\n",
    "# Epoch 9/50\n",
    "# 146/146 [==============================] - 82s 565ms/step - loss: 210.4640 - accuracy: 0.5027 - val_loss: 169.9863 - val_accuracy: 0.4979\n",
    "# Epoch 10/50\n",
    "# 146/146 [==============================] - 82s 562ms/step - loss: 165.8346 - accuracy: 0.5164 - val_loss: 150.3443 - val_accuracy: 0.5107\n",
    "# Epoch 11/50\n",
    "# 146/146 [==============================] - 82s 562ms/step - loss: 163.8631 - accuracy: 0.5278 - val_loss: 140.4970 - val_accuracy: 0.5296\n",
    "# Epoch 12/50\n",
    "# 146/146 [==============================] - 82s 566ms/step - loss: 147.9290 - accuracy: 0.5368 - val_loss: 145.8766 - val_accuracy: 0.5700\n",
    "# Epoch 13/50\n",
    "# 146/146 [==============================] - 82s 560ms/step - loss: 148.7913 - accuracy: 0.5239 - val_loss: 135.7638 - val_accuracy: 0.5330\n",
    "# ...\n",
    "# Epoch 49/50\n",
    "# 146/146 [==============================] - 82s 562ms/step - loss: 123.1453 - accuracy: 0.5287 - val_loss: 124.9598 - val_accuracy: 0.5571\n",
    "# Epoch 50/50\n",
    "# 146/146 [==============================] - 55s 373ms/step - loss: 123.0096 - accuracy: 0.5312 - val_loss: 124.3328 - val_accuracy: 0.5476"
   ]
  },
  {
   "cell_type": "code",
   "execution_count": null,
   "metadata": {},
   "outputs": [],
   "source": []
  }
 ],
 "metadata": {
  "kernelspec": {
   "display_name": "Python 3",
   "language": "python",
   "name": "python3"
  },
  "language_info": {
   "codemirror_mode": {
    "name": "ipython",
    "version": 3
   },
   "file_extension": ".py",
   "mimetype": "text/x-python",
   "name": "python",
   "nbconvert_exporter": "python",
   "pygments_lexer": "ipython3",
   "version": "3.11.7"
  },
  "orig_nbformat": 4,
  "vscode": {
   "interpreter": {
    "hash": "aee8b7b246df8f9039afb4144a1f6fd8d2ca17a180786b69acc140d282b71a49"
   }
  }
 },
 "nbformat": 4,
 "nbformat_minor": 2
}
