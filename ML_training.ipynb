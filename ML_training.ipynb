{
 "cells": [
  {
   "cell_type": "code",
   "execution_count": null,
   "metadata": {},
   "outputs": [],
   "source": [
    "import geopandas as gpd\n",
    "import matplotlib.pyplot as plt\n",
    "import pandas as pd\n",
    "import numpy as np\n",
    "from PIL import Image\n",
    "import glob\n",
    "import math\n",
    "import csv\n",
    "import os\n",
    "import cv2\n",
    "import pandas as pd\n",
    "from sklearn.model_selection import train_test_split\n",
    "from tensorflow import keras\n",
    "from tensorflow.keras.layers import Input, Flatten, Dense\n",
    "from sklearn.model_selection import train_test_split\n",
    "from tensorflow.keras.layers import Input, Conv2D, Flatten, Dense\n"
   ]
  },
  {
   "cell_type": "code",
   "execution_count": null,
   "metadata": {},
   "outputs": [],
   "source": [
    "# path\n",
    "\n",
    "data_path=\"/Users/moctader/Thesis_code/pickle/samples.pkl\""
   ]
  },
  {
   "cell_type": "code",
   "execution_count": null,
   "metadata": {},
   "outputs": [],
   "source": [
    "# Read Data\n",
    "df=gpd.GeoDataFrame(\n",
    "    pd.read_pickle(data_path),\n",
    "    geometry=\"geometry\"\n",
    ")\n"
   ]
  },
  {
   "cell_type": "code",
   "execution_count": null,
   "metadata": {},
   "outputs": [],
   "source": [
    "# select Feature and label\n",
    "X = np.array([np.array(row['combined_channels']) for _, row in df.iterrows()])\n",
    "label = np.array(df['label'])\n"
   ]
  },
  {
   "cell_type": "code",
   "execution_count": null,
   "metadata": {},
   "outputs": [],
   "source": [
    "#select only the unique features\n",
    "unique_arrays, unique_indices = np.unique(X, axis=-1, return_index=True)\n"
   ]
  },
  {
   "cell_type": "code",
   "execution_count": null,
   "metadata": {},
   "outputs": [],
   "source": [
    "# assign into variable\n",
    "feature=unique_arrays"
   ]
  },
  {
   "cell_type": "code",
   "execution_count": null,
   "metadata": {},
   "outputs": [],
   "source": [
    "# splitting\n",
    "X_train, X_test, y_train, y_test = train_test_split(feature, label, test_size=0.2, random_state=42)\n"
   ]
  },
  {
   "cell_type": "code",
   "execution_count": null,
   "metadata": {},
   "outputs": [],
   "source": [
    "\n",
    "# Define the input shape\n",
    "input_shape = (50, 50, 18)\n",
    "\n",
    "# Define the input layer\n",
    "input_layer = Input(shape=input_shape)\n",
    "\n",
    "# Convolutional layers\n",
    "conv1 = Conv2D(32, kernel_size=(3, 3), activation='relu')(input_layer)\n",
    "conv2 = Conv2D(64, kernel_size=(3, 3), activation='relu')(conv1)\n",
    "\n",
    "# Flatten the output from convolutional layers\n",
    "flattened_input = Flatten()(conv2)\n",
    "\n",
    "# Dense layers\n",
    "dense1 = Dense(512, activation='relu')(flattened_input)\n",
    "\n",
    "# Output layer for binary classification with sigmoid activation\n",
    "output_layer = Dense(units=1, activation='sigmoid')(dense1)\n",
    "\n",
    "# Create the model\n",
    "model = keras.Model(inputs=input_layer, outputs=output_layer)\n",
    "\n",
    "# Compile the model for binary classification\n",
    "model.compile(optimizer=keras.optimizers.Adam(learning_rate=0.0001), loss='binary_crossentropy', metrics=['accuracy'])\n",
    "\n",
    "# Train the model\n",
    "model.fit(X_train, y_train, epochs=10, batch_size=32, validation_data=(X_test, y_test))\n",
    "\n"
   ]
  }
 ],
 "metadata": {
  "kernelspec": {
   "display_name": "Python 3",
   "language": "python",
   "name": "python3"
  },
  "language_info": {
   "codemirror_mode": {
    "name": "ipython",
    "version": 3
   },
   "file_extension": ".py",
   "mimetype": "text/x-python",
   "name": "python",
   "nbconvert_exporter": "python",
   "pygments_lexer": "ipython3",
   "version": "3.11.4"
  },
  "orig_nbformat": 4,
  "vscode": {
   "interpreter": {
    "hash": "aee8b7b246df8f9039afb4144a1f6fd8d2ca17a180786b69acc140d282b71a49"
   }
  }
 },
 "nbformat": 4,
 "nbformat_minor": 2
}
