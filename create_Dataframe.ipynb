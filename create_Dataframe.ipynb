{
 "cells": [
  {
   "cell_type": "code",
   "execution_count": 1,
   "metadata": {},
   "outputs": [],
   "source": [
    "import geopandas as gpd\n",
    "import matplotlib.pyplot as plt\n",
    "import pandas as pd\n",
    "import numpy as np\n",
    "from PIL import Image\n",
    "import glob\n",
    "import os\n",
    "import math\n",
    "import csv\n",
    "import os\n"
   ]
  },
  {
   "cell_type": "code",
   "execution_count": 2,
   "metadata": {},
   "outputs": [],
   "source": [
    "lat_lon_file_path='/Users/moctader/Thesis_code/lat_lon/results.csv'\n",
    "feature_vector_path='/Users/moctader/Thesis_code/lat_lon/feature_vector.csv'\n",
    "csv_file_path = '/Users/moctader/Thesis_code/lat_lon/results.csv'\n",
    "tiles_template = \"/Users/moctader/Thesis/{t}/{z}/{x}/{y}.png\"\n",
    "combined_csv_path = '/Users/moctader/Thesis_code/lat_lon/combined_results.csv'\n",
    "points = gpd.read_file(\"/Users/moctader/Thesis_code/GTK_ASsoil_obs.csv\")\n",
    "t_values = glob.glob('/Users/moctader/Thesis/*')\n",
    "base_directory = \"/Users/moctader/Thesis_code/output20/\"\n"
   ]
  },
  {
   "cell_type": "code",
   "execution_count": 3,
   "metadata": {},
   "outputs": [],
   "source": [
    "points.POINT_X = points.POINT_X.astype(\"float\")\n",
    "points.POINT_Y = points.POINT_Y.astype(\"float\")\n",
    "zoom_level = 10\n",
    "\n"
   ]
  },
  {
   "cell_type": "code",
   "execution_count": 5,
   "metadata": {},
   "outputs": [],
   "source": [
    "samples = gpd.GeoDataFrame(\n",
    "    points.CLASS, crs=\"EPSG:3067\", geometry=gpd.points_from_xy(points.POINT_X, points.POINT_Y)\n",
    ").to_crs(\"WGS84\")\n",
    "\n",
    "tile_list = [(point.x, point.y) for point in samples['geometry']]\n"
   ]
  },
  {
   "cell_type": "code",
   "execution_count": 6,
   "metadata": {},
   "outputs": [],
   "source": [
    "samples[\"i\"] = samples.index\n",
    "samples[\"filenames\"] = samples.apply(lambda row: f\"{row['CLASS']}/image_{row['i']}\", axis=1)\n",
    "\n"
   ]
  },
  {
   "cell_type": "code",
   "execution_count": 21,
   "metadata": {},
   "outputs": [],
   "source": [
    "def get_lat_from_row(p):\n",
    "    lon, lat = p.geometry.x, p.geometry.y\n",
    "    return lat\n",
    "\n",
    "def get_lon_from_one_column(geometry):\n",
    "    # geometry is a column\n",
    "    lon, lat = geometry.x, geometry.y\n",
    "    return lon"
   ]
  },
  {
   "cell_type": "code",
   "execution_count": 22,
   "metadata": {},
   "outputs": [],
   "source": [
    "samples[\"lat\"] = samples.apply(lambda row: get_lat_from_row(row), axis=1)"
   ]
  },
  {
   "cell_type": "code",
   "execution_count": 23,
   "metadata": {},
   "outputs": [],
   "source": [
    "samples[\"lon\"] = samples[\"geometry\"].map(get_lon_from_one_column)\n"
   ]
  },
  {
   "cell_type": "code",
   "execution_count": 25,
   "metadata": {},
   "outputs": [],
   "source": [
    "def load_data(filename, directory):\n",
    "    path = directory + \"/\" + filename + \".png\"\n",
    "    return np.array(Image.open(path))[:, :, :3]  # return 3 channels\n",
    "    \n",
    "    "
   ]
  },
  {
   "cell_type": "code",
   "execution_count": 26,
   "metadata": {},
   "outputs": [],
   "source": [
    "# Get a list of file_names (files and directories) in the base directory\n",
    "file_names = os.listdir(base_directory)\n",
    "\n",
    "# Filter out non-directory file_names\n",
    "files = [file for file in file_names if os.path.isdir(os.path.join(base_directory, file))]\n",
    "\n",
    "for single_file in files:\n",
    "    samples[single_file] = samples[\"filenames\"].map(\n",
    "        lambda name, directory=os.path.join(base_directory, single_file): load_data(name, directory)\n",
    "    )\n"
   ]
  },
  {
   "cell_type": "code",
   "execution_count": 30,
   "metadata": {},
   "outputs": [
    {
     "name": "stdout",
     "output_type": "stream",
     "text": [
      "  CLASS                   geometry  i    filenames        lat        lon  \\\n",
      "0   ASS  POINT (25.76894 64.77799)  0  ASS/image_0  64.777988  25.768938   \n",
      "1   ASS  POINT (25.77630 64.79350)  1  ASS/image_1  64.793496  25.776304   \n",
      "\n",
      "                                  elev_10m_hillshade  \\\n",
      "0  [[[197, 197, 197], [196, 196, 196], [197, 197,...   \n",
      "1  [[[196, 196, 196], [197, 197, 197], [197, 197,...   \n",
      "\n",
      "                                             landsat  \\\n",
      "0  [[[234, 121, 245], [163, 30, 166], [72, 10, 10...   \n",
      "1  [[[113, 180, 121], [123, 190, 167], [133, 209,...   \n",
      "\n",
      "                                      elev_10m_slope  \\\n",
      "0  [[[255, 255, 255], [254, 254, 254], [254, 254,...   \n",
      "1  [[[255, 255, 255], [255, 255, 255], [255, 255,...   \n",
      "\n",
      "                                  aem_real_component  \\\n",
      "0  [[[231, 24, 25], [231, 26, 26], [231, 24, 25],...   \n",
      "1  [[[230, 25, 25], [230, 23, 22], [230, 21, 20],...   \n",
      "\n",
      "                                   corine_land_cover  \\\n",
      "0  [[[3, 3, 3], [3, 3, 3], [25, 25, 25], [2, 2, 2...   \n",
      "1  [[[34, 34, 34], [17, 17, 17], [17, 17, 17], [1...   \n",
      "\n",
      "                                            elev_10m  \\\n",
      "0  [[[246, 246, 246], [246, 246, 246], [246, 246,...   \n",
      "1  [[[253, 253, 253], [253, 253, 253], [253, 253,...   \n",
      "\n",
      "                            aem_apparent_resistivity  \\\n",
      "0  [[[253, 52, 29], [254, 56, 28], [254, 56, 27],...   \n",
      "1  [[[255, 61, 26], [254, 55, 26], [254, 53, 26],...   \n",
      "\n",
      "                             aem_imaginary_component  \\\n",
      "0  [[[232, 48, 48], [228, 12, 15], [228, 10, 11],...   \n",
      "1  [[[228, 4, 5], [229, 5, 5], [229, 5, 5], [229,...   \n",
      "\n",
      "                                                 TPI  \\\n",
      "0  [[[129, 129, 129], [127, 127, 127], [128, 128,...   \n",
      "1  [[[128, 128, 128], [130, 130, 130], [129, 129,...   \n",
      "\n",
      "                                     elev_10m_aspect  \\\n",
      "0  [[[125, 125, 125], [120, 120, 120], [147, 147,...   \n",
      "1  [[[85, 85, 85], [143, 143, 143], [111, 111, 11...   \n",
      "\n",
      "                                   combined_channels  \n",
      "0  [[[197, 197, 197, 234, 121, 245, 255, 255, 255...  \n",
      "1  [[[196, 196, 196, 113, 180, 121, 255, 255, 255...  \n"
     ]
    }
   ],
   "source": [
    "import numpy as np\n",
    "import cv2\n",
    "import pandas as pd\n",
    "\n",
    "\n",
    "# Initialize an empty list to store combined images for all rows\n",
    "combined_images_list = []\n",
    "\n",
    "# Iterate over rows of the DataFrame\n",
    "for index, row in samples.iterrows():\n",
    "    # Initialize an empty list to store individual layers\n",
    "    layers_list = []\n",
    "\n",
    "    # Iterate over the selected columns\n",
    "    for single_file in files:\n",
    "        layer = (row[single_file])\n",
    "        layers_list.append(layer)\n",
    "\n",
    "    # Concatenate the layers along the third dimension to create a multi-channel image\n",
    "    combined_image = np.concatenate(layers_list, axis=-1)\n",
    "    \n",
    "    # Append the combined image to the list\n",
    "    combined_images_list.append(combined_image)\n",
    "\n",
    "# Add the combined images as a new column in the DataFrame\n",
    "\n",
    "samples[\"combined_channels\"] = combined_images_list\n",
    "\n",
    "# Print the updated DataFrame\n",
    "print(samples.head(2))\n"
   ]
  },
  {
   "cell_type": "code",
   "execution_count": 29,
   "metadata": {},
   "outputs": [
    {
     "name": "stdout",
     "output_type": "stream",
     "text": [
      "The image at /Users/moctader/Thesis_code/output20/elev_10m_hillshade/ASS/image_0.png has 3 channel(s): ('R', 'G', 'B')\n",
      "The image at /Users/moctader/Thesis_code/output20/landsat/ASS/image_0.png has 3 channel(s): ('R', 'G', 'B')\n",
      "The image at /Users/moctader/Thesis_code/output20/elev_10m_slope/ASS/image_0.png has 3 channel(s): ('R', 'G', 'B')\n",
      "The image at /Users/moctader/Thesis_code/output20/aem_real_component/ASS/image_0.png has 3 channel(s): ('R', 'G', 'B')\n",
      "The image at /Users/moctader/Thesis_code/output20/corine_land_cover/ASS/image_0.png has 3 channel(s): ('R', 'G', 'B')\n",
      "The image at /Users/moctader/Thesis_code/output20/elev_10m/ASS/image_0.png has 3 channel(s): ('R', 'G', 'B')\n",
      "The image at /Users/moctader/Thesis_code/output20/aem_apparent_resistivity/ASS/image_0.png has 3 channel(s): ('R', 'G', 'B')\n",
      "The image at /Users/moctader/Thesis_code/output20/aem_imaginary_component/ASS/image_0.png has 3 channel(s): ('R', 'G', 'B')\n",
      "The image at /Users/moctader/Thesis_code/output20/TPI/ASS/image_0.png has 3 channel(s): ('R', 'G', 'B')\n",
      "The image at /Users/moctader/Thesis_code/output20/elev_10m_aspect/ASS/image_0.png has 3 channel(s): ('R', 'G', 'B')\n"
     ]
    }
   ],
   "source": [
    "# Check the images chanels\n",
    "\n",
    "base_directory = \"/Users/moctader/Thesis_code/output20/\"\n",
    "\n",
    "# Get a list of file_names in the base directory\n",
    "file_names = os.listdir(base_directory)\n",
    "\n",
    "# Filter out non-directory file_names\n",
    "files = [file for file in file_names if os.path.isdir(os.path.join(base_directory, file))]\n",
    "\n",
    "for single_file in files:\n",
    "    #mage_file_path=f'/Users/moctader/Thesis_code/output20/{single_file}/non-ASS/image_5786.png'\n",
    "    image_file_path=f'/Users/moctader/Thesis_code/output20/{single_file}/ASS/image_0.png'\n",
    "    image = Image.open(image_file_path)\n",
    "\n",
    "    # Get the bands (channels) of the image\n",
    "    bands = image.getbands()\n",
    "    \n",
    "    # Determine the number of channels\n",
    "    num_channels = len(bands)\n",
    "\n",
    "    # Print the result\n",
    "    print(f\"The image at {image_file_path} has {num_channels} channel(s): {bands}\")"
   ]
  },
  {
   "cell_type": "code",
   "execution_count": null,
   "metadata": {},
   "outputs": [],
   "source": []
  }
 ],
 "metadata": {
  "kernelspec": {
   "display_name": "Python 3",
   "language": "python",
   "name": "python3"
  },
  "language_info": {
   "codemirror_mode": {
    "name": "ipython",
    "version": 3
   },
   "file_extension": ".py",
   "mimetype": "text/x-python",
   "name": "python",
   "nbconvert_exporter": "python",
   "pygments_lexer": "ipython3",
   "version": "3.11.4"
  },
  "orig_nbformat": 4,
  "vscode": {
   "interpreter": {
    "hash": "aee8b7b246df8f9039afb4144a1f6fd8d2ca17a180786b69acc140d282b71a49"
   }
  }
 },
 "nbformat": 4,
 "nbformat_minor": 2
}
