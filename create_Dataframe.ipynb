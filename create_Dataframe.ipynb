{
 "cells": [
  {
   "cell_type": "code",
   "execution_count": 67,
   "metadata": {},
   "outputs": [],
   "source": [
    "import geopandas as gpd\n",
    "import matplotlib.pyplot as plt\n",
    "import pandas as pd\n",
    "import numpy as np\n",
    "from PIL import Image\n",
    "import glob\n",
    "import os\n",
    "import math\n",
    "import csv\n",
    "import os\n",
    "import cv2\n"
   ]
  },
  {
   "cell_type": "code",
   "execution_count": 68,
   "metadata": {},
   "outputs": [],
   "source": [
    "lat_lon_file_path='/Users/moctader/Thesis_code/lat_lon/results.csv'\n",
    "feature_vector_path='/Users/moctader/Thesis_code/lat_lon/feature_vector.csv'\n",
    "csv_file_path = '/Users/moctader/Thesis_code/lat_lon/results.csv'\n",
    "tiles_template = \"/Users/moctader/Thesis/{t}/{z}/{x}/{y}.png\"\n",
    "combined_csv_path = '/Users/moctader/Thesis_code/lat_lon/combined_results.csv'\n",
    "points = gpd.read_file(\"/Users/moctader/Thesis_code/GTK_ASsoil_obs.csv\")\n",
    "t_values = glob.glob('/Users/moctader/Thesis/*')\n",
    "base_directory = \"/Users/moctader/Thesis_code/output20/\"\n"
   ]
  },
  {
   "cell_type": "code",
   "execution_count": 69,
   "metadata": {},
   "outputs": [],
   "source": [
    "points.POINT_X = points.POINT_X.astype(\"float\")\n",
    "points.POINT_Y = points.POINT_Y.astype(\"float\")\n",
    "zoom_level = 10\n",
    "\n"
   ]
  },
  {
   "cell_type": "code",
   "execution_count": 70,
   "metadata": {},
   "outputs": [],
   "source": [
    "#samples\n",
    "samples = gpd.GeoDataFrame(\n",
    "    points.CLASS, crs=\"EPSG:3067\", geometry=gpd.points_from_xy(points.POINT_X, points.POINT_Y)\n",
    ").to_crs(\"WGS84\")\n",
    "\n",
    "tile_list = [(point.x, point.y) for point in samples['geometry']]\n"
   ]
  },
  {
   "cell_type": "code",
   "execution_count": 71,
   "metadata": {},
   "outputs": [],
   "source": [
    "samples[\"i\"] = samples.index\n",
    "samples[\"filenames\"] = samples.apply(lambda row: f\"{row['CLASS']}/image_{row['i']}\", axis=1)\n",
    "\n"
   ]
  },
  {
   "cell_type": "code",
   "execution_count": 72,
   "metadata": {},
   "outputs": [],
   "source": [
    "def get_lat_from_row(p):\n",
    "    lon, lat = p.geometry.x, p.geometry.y\n",
    "    return lat\n",
    "\n",
    "def get_lon_from_one_column(geometry):\n",
    "    # geometry is a column\n",
    "    lon, lat = geometry.x, geometry.y\n",
    "    return lon"
   ]
  },
  {
   "cell_type": "code",
   "execution_count": 73,
   "metadata": {},
   "outputs": [],
   "source": [
    "samples[\"lat\"] = samples.apply(lambda row: get_lat_from_row(row), axis=1)"
   ]
  },
  {
   "cell_type": "code",
   "execution_count": 74,
   "metadata": {},
   "outputs": [],
   "source": [
    "samples[\"lon\"] = samples[\"geometry\"].map(get_lon_from_one_column)\n"
   ]
  },
  {
   "cell_type": "code",
   "execution_count": 75,
   "metadata": {},
   "outputs": [],
   "source": [
    "# load data \n",
    "def load_data(filename, directory):\n",
    "    path = directory + \"/\" + filename + \".png\"\n",
    "    image_array = np.array(Image.open(path))\n",
    "\n",
    "    if len(image_array.shape) == 3 and image_array.shape[2] == 3:\n",
    "        return image_array[:, :, :3]\n",
    "    else:\n",
    "        return image_array[:, :, 0:1]\n",
    "\n",
    "    \n",
    "    "
   ]
  },
  {
   "cell_type": "code",
   "execution_count": 76,
   "metadata": {},
   "outputs": [],
   "source": [
    "# add all the images\n",
    "file_names = os.listdir(base_directory)\n",
    "\n",
    "# Filter out non-directory file_names\n",
    "files = [file for file in file_names if os.path.isdir(os.path.join(base_directory, file))]\n",
    "\n",
    "for single_file in files:\n",
    "    samples[single_file] = samples[\"filenames\"].map(\n",
    "        lambda name, directory=os.path.join(base_directory, single_file): load_data(name, directory)\n",
    "    )\n"
   ]
  },
  {
   "cell_type": "code",
   "execution_count": 77,
   "metadata": {},
   "outputs": [],
   "source": [
    "#create label\n",
    "def label_rows(row):\n",
    "    if 'ASS' == row['CLASS']:\n",
    "        return 1\n",
    "    else:\n",
    "        return 0\n",
    "\n",
    "samples['label'] = samples.apply(label_rows, axis=1)\n"
   ]
  },
  {
   "cell_type": "code",
   "execution_count": 78,
   "metadata": {},
   "outputs": [],
   "source": [
    "\n",
    "# All channels togather to from combine channel\n",
    "\n",
    "combined_images_list = []\n",
    "\n",
    "# Iterate over rows of the DataFrame\n",
    "for index, row in samples.iterrows():\n",
    "    # Initialize an empty list to store individual layers\n",
    "    layers_list = []\n",
    "\n",
    "    # Iterate over the selected columns\n",
    "    for single_file in files:\n",
    "        layer = (row[single_file])\n",
    "        layers_list.append(layer)\n",
    "\n",
    "    # Concatenate the layers along the third dimension to create a multi-channel image\n",
    "    combined_image = np.concatenate(layers_list, axis=-1)\n",
    "    \n",
    "    # Append the combined image to the list\n",
    "    combined_images_list.append(combined_image)\n",
    "\n",
    "# Add the combined images as a new column in the DataFrame\n",
    "\n",
    "samples[\"combined_channels\"] = combined_images_list\n",
    "\n"
   ]
  },
  {
   "cell_type": "code",
   "execution_count": 79,
   "metadata": {},
   "outputs": [
    {
     "name": "stdout",
     "output_type": "stream",
     "text": [
      "        CLASS                   geometry     i           filenames        lat  \\\n",
      "5623  non-ASS  POINT (25.48415 65.41564)  5623  non-ASS/image_5623  65.415640   \n",
      "5624  non-ASS  POINT (25.59713 65.42222)  5624  non-ASS/image_5624  65.422220   \n",
      "5625      ASS  POINT (25.41993 65.43876)  5625      ASS/image_5625  65.438758   \n",
      "5626      ASS  POINT (25.44373 65.43709)  5626      ASS/image_5626  65.437087   \n",
      "\n",
      "            lon                                 elev_10m_hillshade  \\\n",
      "5623  25.484148  [[[198, 198, 198], [198, 198, 198], [194, 194,...   \n",
      "5624  25.597127  [[[198, 198, 198], [198, 198, 198], [198, 198,...   \n",
      "5625  25.419933  [[[196, 196, 196], [196, 196, 196], [196, 196,...   \n",
      "5626  25.443733  [[[196, 196, 196], [196, 196, 196], [196, 196,...   \n",
      "\n",
      "                                                landsat  \\\n",
      "5623  [[[125, 59, 106], [127, 62, 106], [86, 64, 104...   \n",
      "5624  [[[228, 181, 148], [183, 200, 142], [215, 223,...   \n",
      "5625  [[[1, 2, 44], [2, 3, 45], [1, 2, 44], [1, 2, 4...   \n",
      "5626  [[[3, 4, 47], [4, 4, 49], [2, 5, 49], [2, 5, 4...   \n",
      "\n",
      "                                         elev_10m_slope  \\\n",
      "5623  [[[254, 254, 254], [253, 253, 253], [250, 250,...   \n",
      "5624  [[[255, 255, 255], [255, 255, 255], [255, 255,...   \n",
      "5625  [[[255, 255, 255], [255, 255, 255], [255, 255,...   \n",
      "5626  [[[255, 255, 255], [255, 255, 255], [255, 255,...   \n",
      "\n",
      "                                     aem_real_component  \\\n",
      "5623  [[[138, 140, 244], [139, 139, 242], [139, 139,...   \n",
      "5624  [[[139, 137, 242], [140, 138, 241], [138, 138,...   \n",
      "5625  [[[253, 254, 254], [253, 254, 254], [253, 254,...   \n",
      "5626  [[[255, 254, 255], [255, 254, 255], [255, 254,...   \n",
      "\n",
      "                                      corine_land_cover  \\\n",
      "5623  [[[43, 43, 43], [43, 43, 43], [25, 25, 25], [3...   \n",
      "5624  [[[28, 28, 28], [28, 28, 28], [23, 23, 23], [3...   \n",
      "5625  [[[49, 49, 49], [49, 49, 49], [49, 49, 49], [4...   \n",
      "5626  [[[49, 49, 49], [49, 49, 49], [49, 49, 49], [4...   \n",
      "\n",
      "                                               elev_10m  \\\n",
      "5623  [[[254, 254, 254], [254, 254, 254], [254, 254,...   \n",
      "5624  [[[249, 249, 249], [248, 248, 248], [248, 248,...   \n",
      "5625  [[[255, 255, 255], [255, 255, 255], [255, 255,...   \n",
      "5626  [[[255, 255, 255], [255, 255, 255], [255, 255,...   \n",
      "\n",
      "                               aem_apparent_resistivity  \\\n",
      "5623  [[[94, 255, 168], [85, 255, 176], [149, 255, 1...   \n",
      "5624  [[[29, 138, 252], [30, 113, 252], [32, 110, 25...   \n",
      "5625  [[[254, 255, 253], [254, 255, 253], [254, 255,...   \n",
      "5626  [[[253, 254, 255], [253, 254, 254], [253, 254,...   \n",
      "\n",
      "                                aem_imaginary_component  \\\n",
      "5623  [[[28, 30, 232], [28, 30, 228], [20, 23, 229],...   \n",
      "5624  [[[60, 60, 236], [61, 61, 234], [58, 57, 236],...   \n",
      "5625  [[[251, 254, 254], [250, 253, 253], [251, 253,...   \n",
      "5626  [[[251, 254, 254], [251, 254, 254], [251, 254,...   \n",
      "\n",
      "                                                    TPI  \\\n",
      "5623  [[[128, 128, 128], [134, 134, 134], [122, 122,...   \n",
      "5624  [[[131, 131, 131], [129, 129, 129], [128, 128,...   \n",
      "5625  [[[128, 128, 128], [128, 128, 128], [128, 128,...   \n",
      "5626  [[[128, 128, 128], [128, 128, 128], [128, 128,...   \n",
      "\n",
      "                                        elev_10m_aspect  label  \\\n",
      "5623  [[[148, 148, 148], [120, 120, 120], [117, 117,...      0   \n",
      "5624  [[[169, 169, 169], [190, 190, 190], [211, 211,...      0   \n",
      "5625  [[[0, 0, 0], [0, 0, 0], [0, 0, 0], [0, 0, 0], ...      1   \n",
      "5626  [[[0, 0, 0], [0, 0, 0], [0, 0, 0], [0, 0, 0], ...      1   \n",
      "\n",
      "                                      combined_channels  \n",
      "5623  [[[198, 198, 198, 125, 59, 106, 254, 254, 254,...  \n",
      "5624  [[[198, 198, 198, 228, 181, 148, 255, 255, 255...  \n",
      "5625  [[[196, 196, 196, 1, 2, 44, 255, 255, 255, 253...  \n",
      "5626  [[[196, 196, 196, 3, 4, 47, 255, 255, 255, 255...  \n"
     ]
    }
   ],
   "source": [
    "print(samples.iloc[5623:5627])"
   ]
  },
  {
   "cell_type": "code",
   "execution_count": 80,
   "metadata": {},
   "outputs": [],
   "source": [
    "samples.to_pickle(\"/Users/moctader/Thesis_code/pickle/samples.pkl\")"
   ]
  },
  {
   "cell_type": "code",
   "execution_count": 81,
   "metadata": {},
   "outputs": [
    {
     "name": "stdout",
     "output_type": "stream",
     "text": [
      "The image at /Users/moctader/Thesis_code/output20/elev_10m_hillshade/ASS/image_0.png has 3 channel(s): ('R', 'G', 'B')\n",
      "The image at /Users/moctader/Thesis_code/output20/landsat/ASS/image_0.png has 3 channel(s): ('R', 'G', 'B')\n",
      "The image at /Users/moctader/Thesis_code/output20/elev_10m_slope/ASS/image_0.png has 3 channel(s): ('R', 'G', 'B')\n",
      "The image at /Users/moctader/Thesis_code/output20/aem_real_component/ASS/image_0.png has 3 channel(s): ('R', 'G', 'B')\n",
      "The image at /Users/moctader/Thesis_code/output20/corine_land_cover/ASS/image_0.png has 3 channel(s): ('R', 'G', 'B')\n",
      "The image at /Users/moctader/Thesis_code/output20/elev_10m/ASS/image_0.png has 3 channel(s): ('R', 'G', 'B')\n",
      "The image at /Users/moctader/Thesis_code/output20/aem_apparent_resistivity/ASS/image_0.png has 3 channel(s): ('R', 'G', 'B')\n",
      "The image at /Users/moctader/Thesis_code/output20/aem_imaginary_component/ASS/image_0.png has 3 channel(s): ('R', 'G', 'B')\n",
      "The image at /Users/moctader/Thesis_code/output20/TPI/ASS/image_0.png has 3 channel(s): ('R', 'G', 'B')\n",
      "The image at /Users/moctader/Thesis_code/output20/elev_10m_aspect/ASS/image_0.png has 3 channel(s): ('R', 'G', 'B')\n"
     ]
    }
   ],
   "source": [
    "\n",
    "\n",
    "\n",
    "\n",
    "\n",
    "# This is not part of dataframe \n",
    "# Check the images chanels\n",
    "\n",
    "base_directory = \"/Users/moctader/Thesis_code/output20/\"\n",
    "\n",
    "# Get a list of file_names in the base directory\n",
    "file_names = os.listdir(base_directory)\n",
    "\n",
    "# Filter out non-directory file_names\n",
    "files = [file for file in file_names if os.path.isdir(os.path.join(base_directory, file))]\n",
    "\n",
    "for single_file in files:\n",
    "    #mage_file_path=f'/Users/moctader/Thesis_code/output20/{single_file}/non-ASS/image_5786.png'\n",
    "    image_file_path=f'/Users/moctader/Thesis_code/output20/{single_file}/ASS/image_0.png'\n",
    "    image = Image.open(image_file_path)\n",
    "\n",
    "    # Get the bands (channels) of the image\n",
    "    bands = image.getbands()\n",
    "    \n",
    "    # Determine the number of channels\n",
    "    num_channels = len(bands)\n",
    "\n",
    "    # Print the result\n",
    "    print(f\"The image at {image_file_path} has {num_channels} channel(s): {bands}\")"
   ]
  }
 ],
 "metadata": {
  "kernelspec": {
   "display_name": "Python 3",
   "language": "python",
   "name": "python3"
  },
  "language_info": {
   "codemirror_mode": {
    "name": "ipython",
    "version": 3
   },
   "file_extension": ".py",
   "mimetype": "text/x-python",
   "name": "python",
   "nbconvert_exporter": "python",
   "pygments_lexer": "ipython3",
   "version": "3.11.4"
  },
  "orig_nbformat": 4,
  "vscode": {
   "interpreter": {
    "hash": "aee8b7b246df8f9039afb4144a1f6fd8d2ca17a180786b69acc140d282b71a49"
   }
  }
 },
 "nbformat": 4,
 "nbformat_minor": 2
}
