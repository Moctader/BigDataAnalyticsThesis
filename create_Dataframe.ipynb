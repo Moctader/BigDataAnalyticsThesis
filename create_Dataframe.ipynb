{
 "cells": [
  {
   "cell_type": "code",
   "execution_count": 1,
   "metadata": {},
   "outputs": [],
   "source": [
    "# Import Section\n",
    "\n",
    "import geopandas as gpd\n",
    "import numpy as np\n",
    "from PIL import Image\n",
    "import os"
   ]
  },
  {
   "cell_type": "code",
   "execution_count": 6,
   "metadata": {},
   "outputs": [],
   "source": [
    "# Path to the folder with all data\n",
    "PREFIX = \"/Users/akusok/wrkdir/Golam\"\n",
    "\n",
    "# Zoom level\n",
    "ZOOM_LEVEL = 10\n",
    "\n",
    "# Path to the output file\n",
    "DATAFRAME_OUTPUT_PATH = f\"{PREFIX}/samples.pkl\""
   ]
  },
  {
   "cell_type": "code",
   "execution_count": 7,
   "metadata": {},
   "outputs": [],
   "source": [
    "csv_path = f\"{PREFIX}/GTK_ASsoil_obs.csv\"\n",
    "base_directory = f\"{PREFIX}/output20/\""
   ]
  },
  {
   "cell_type": "code",
   "execution_count": 8,
   "metadata": {},
   "outputs": [],
   "source": [
    "\n",
    "def read_geo_data(csv_path):\n",
    "    points = gpd.read_file(csv_path)\n",
    "    return points\n",
    "points=read_geo_data(csv_path)"
   ]
  },
  {
   "cell_type": "code",
   "execution_count": 9,
   "metadata": {},
   "outputs": [],
   "source": [
    "# Data points\n",
    "\n",
    "points.POINT_X = points.POINT_X.astype(\"float\")\n",
    "points.POINT_Y = points.POINT_Y.astype(\"float\")"
   ]
  },
  {
   "cell_type": "code",
   "execution_count": 10,
   "metadata": {},
   "outputs": [],
   "source": [
    "#samples\n",
    "\n",
    "samples = gpd.GeoDataFrame(\n",
    "    points.CLASS, crs=\"EPSG:3067\", geometry=gpd.points_from_xy(points.POINT_X, points.POINT_Y)\n",
    ").to_crs(\"WGS84\")\n",
    "\n",
    "tile_list = [(point.x, point.y) for point in samples['geometry']]\n"
   ]
  },
  {
   "cell_type": "code",
   "execution_count": 11,
   "metadata": {},
   "outputs": [],
   "source": [
    "# Creating image filename\n",
    "\n",
    "samples[\"i\"] = samples.index\n",
    "samples[\"filenames\"] = samples.apply(lambda row: f\"{row['CLASS']}/image_{row['i']}\", axis=1)"
   ]
  },
  {
   "cell_type": "code",
   "execution_count": 12,
   "metadata": {},
   "outputs": [],
   "source": [
    "# Extracting Latitude and Longitude from GeoDataFrame\n",
    "\n",
    "\n",
    "def get_lat_from_row(p):\n",
    "    lon, lat = p.geometry.x, p.geometry.y\n",
    "    return lat\n",
    "\n",
    "def get_lon_from_one_column(geometry):\n",
    "    lon, lat = geometry.x, geometry.y\n",
    "    return lon"
   ]
  },
  {
   "cell_type": "code",
   "execution_count": 13,
   "metadata": {},
   "outputs": [],
   "source": [
    "# Calculating Latitude for Each Sample\n",
    "\n",
    "samples[\"lat\"] = samples.apply(lambda row: get_lat_from_row(row), axis=1)"
   ]
  },
  {
   "cell_type": "code",
   "execution_count": 14,
   "metadata": {},
   "outputs": [],
   "source": [
    "# Calculating Longitude for Each Sample\n",
    "\n",
    "samples[\"lon\"] = samples[\"geometry\"].map(get_lon_from_one_column)\n"
   ]
  },
  {
   "cell_type": "code",
   "execution_count": 15,
   "metadata": {},
   "outputs": [],
   "source": [
    "# Image Loading Function\n",
    "\n",
    "def load_data(filename, directory):\n",
    "    path = directory + \"/\" + filename + \".png\"\n",
    "    image_array = np.array(Image.open(path))\n",
    "\n",
    "    if len(image_array.shape) == 3 and image_array.shape[2] == 3:\n",
    "        return image_array[:, :, :3]\n",
    "    else:\n",
    "        return image_array[:, :, 0:1]"
   ]
  },
  {
   "cell_type": "code",
   "execution_count": 16,
   "metadata": {},
   "outputs": [],
   "source": [
    "# Loading Image Data for Multiple Files\n",
    "\n",
    "file_names = os.listdir(base_directory)\n",
    "\n",
    "# Filter out non-directory file_names\n",
    "files = [file for file in file_names if os.path.isdir(os.path.join(base_directory, file))]\n",
    "\n",
    "for single_file in files:\n",
    "    samples[single_file] = samples[\"filenames\"].map(\n",
    "        lambda name, directory=os.path.join(base_directory, single_file): load_data(name, directory)\n",
    "    )"
   ]
  },
  {
   "cell_type": "code",
   "execution_count": 17,
   "metadata": {},
   "outputs": [],
   "source": [
    "# Creating a Binary Label Column Based on \"CLASS\"\n",
    "\n",
    "def label_rows(row):\n",
    "    if 'ASS' == row['CLASS']:\n",
    "        return 1\n",
    "    else:\n",
    "        return 0\n",
    "\n",
    "samples['label'] = samples.apply(label_rows, axis=1)"
   ]
  },
  {
   "cell_type": "code",
   "execution_count": 18,
   "metadata": {},
   "outputs": [],
   "source": [
    "\n",
    "# Combining Channels to Create Multi-channel Images\n",
    "\n",
    "combined_images_list = []\n",
    "\n",
    "# Iterate over rows of the DataFrame\n",
    "for index, row in samples.iterrows():\n",
    "    # Initialize an empty list to store individual layers\n",
    "    layers_list = []\n",
    "\n",
    "    # Iterate over the selected columns\n",
    "    for single_file in files:\n",
    "        layer = (row[single_file])\n",
    "        layers_list.append(layer)\n",
    "\n",
    "    # Concatenate the layers along the third dimension to create a multi-channel image\n",
    "    combined_image = np.concatenate(layers_list, axis=-1)\n",
    "    \n",
    "    # Append the combined image to the list\n",
    "    combined_images_list.append(combined_image)\n",
    "\n",
    "# Add the combined images as a new column in the DataFrame\n",
    "\n",
    "samples[\"combined_channels\"] = combined_images_list"
   ]
  },
  {
   "cell_type": "code",
   "execution_count": null,
   "metadata": {},
   "outputs": [],
   "source": [
    "# Saving DataFrame as a Pickle File\n",
    "\n",
    "samples.to_pickle(DATAFRAME_OUTPUT_PATH)"
   ]
  }
 ],
 "metadata": {
  "kernelspec": {
   "display_name": "Python 3",
   "language": "python",
   "name": "python3"
  },
  "language_info": {
   "codemirror_mode": {
    "name": "ipython",
    "version": 3
   },
   "file_extension": ".py",
   "mimetype": "text/x-python",
   "name": "python",
   "nbconvert_exporter": "python",
   "pygments_lexer": "ipython3",
   "version": "3.11.7"
  },
  "orig_nbformat": 4,
  "vscode": {
   "interpreter": {
    "hash": "aee8b7b246df8f9039afb4144a1f6fd8d2ca17a180786b69acc140d282b71a49"
   }
  }
 },
 "nbformat": 4,
 "nbformat_minor": 2
}
